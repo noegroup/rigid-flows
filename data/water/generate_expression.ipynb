{
 "cells": [
  {
   "cell_type": "code",
   "execution_count": 46,
   "id": "6fa9451d-e442-4318-8f4c-d28e5807650b",
   "metadata": {},
   "outputs": [
    {
     "data": {
      "text/plain": [
       "'select(step(r - 0.8), (0.6809459924697876 * ((0.3164350092411041 / r)^12 - (0.3164350092411041 / r)^6)), (((10.0 * r^2) + (-15.9805908203125 * r)) + 6.3818745613098145))'"
      ]
     },
     "execution_count": 46,
     "metadata": {},
     "output_type": "execute_result"
    }
   ],
   "source": [
    "from functools import partial\n",
    "import inspect\n",
    "from typing import Callable\n",
    "import jax\n",
    "from jax import Array\n",
    "import jax.numpy as jnp\n",
    "\n",
    "def lennard_jones(r, sigma, epsilon):\n",
    "    return 1 * epsilon * ( (sigma/r) ** 12 - (sigma/r) ** 6)\n",
    "\n",
    "def parse_jaxpr(fn: Callable, args: tuple[str] | None = None, symbols: dict = {}):\n",
    "\n",
    "    placeholders = []\n",
    "    \n",
    "    if args is None:\n",
    "        sig = inspect.signature(fn)\n",
    "        for key, val in sig.parameters.items():\n",
    "            if val.default == inspect._empty:\n",
    "                placeholders.append(key)\n",
    "\n",
    "    jaxpr_kwargs = {\n",
    "        key: jax.ShapedArray((), dtype=jnp.float32)\n",
    "        for key in placeholders\n",
    "    }\n",
    "    jaxpr = jax.make_jaxpr(fn)(**jaxpr_kwargs)\n",
    "    symbols = {\n",
    "        str(sym): val if val not in symbols else symbols[val]\n",
    "        for (sym, val) in zip(jaxpr.jaxpr.invars, placeholders)\n",
    "    }\n",
    "\n",
    "    def fetch_symbol(arg):\n",
    "        if isinstance(arg, jax.core.Var):\n",
    "            return symbols[str(arg)]\n",
    "        elif isinstance(arg, jax.core.Literal):\n",
    "            return str(arg)\n",
    "        else:\n",
    "            raise ValueError()\n",
    "    \n",
    "    for eqn in jaxpr.eqns:\n",
    "        match eqn.primitive.name:\n",
    "            case \"mul\":\n",
    "                fst, snd = map(fetch_symbol, eqn.invars)\n",
    "                out = str(eqn.outvars[0])\n",
    "                symbols[out] = f\"({fst} * {snd})\"\n",
    "            case \"div\":\n",
    "                fst, snd = map(fetch_symbol, eqn.invars)\n",
    "                out = str(eqn.outvars[0])\n",
    "                symbols[out] = f\"({fst} / {snd})\"\n",
    "            case \"integer_pow\":\n",
    "                fst, = map(fetch_symbol, eqn.invars)\n",
    "                exp = str(eqn.params['y'])\n",
    "                out = str(eqn.outvars[0])\n",
    "                symbols[out] = f\"{fst}^{exp}\"\n",
    "            case \"sub\":\n",
    "                fst, snd = map(fetch_symbol, eqn.invars)\n",
    "                out = str(eqn.outvars[0])\n",
    "                symbols[out] = f\"({fst} - {snd})\"\n",
    "            case \"add\":\n",
    "                fst, snd = map(fetch_symbol, eqn.invars)\n",
    "                out = str(eqn.outvars[0])\n",
    "                symbols[out] = f\"({fst} + {snd})\"\n",
    "            case \"convert_element_type\":\n",
    "                fst, = map(fetch_symbol, eqn.invars)\n",
    "                out = str(eqn.outvars[0])\n",
    "                symbols[out] = f\"{fst}\"\n",
    "            case _:\n",
    "                raise ValueError(eqn.primitive.name)\n",
    "\n",
    "    return tuple(map(fetch_symbol, jaxpr.jaxpr.outvars))\n",
    "\n",
    "def approx_with_square(original, cutoff: Array, slope: float):\n",
    "    y0, dyx0 = jax.value_and_grad(original)(cutoff)\n",
    "    a = slope\n",
    "    b = dyx0 - 2 * a * cutoff\n",
    "    c = y0 - a * cutoff ** 2 - b * cutoff\n",
    "\n",
    "    def approx(r):\n",
    "        return a * r ** 2 + b * r + c\n",
    "\n",
    "    return approx\n",
    "\n",
    "def approx_with_linear(original, cutoff: Array):\n",
    "    y0, dyx0 = jax.value_and_grad(original)(cutoff)\n",
    "    a = dyx0\n",
    "    b = y0 - a * cutoff\n",
    "\n",
    "    def approx(r):\n",
    "        return a * r + b \n",
    "\n",
    "    return approx\n",
    "\n",
    "def approx(fun, approximation, cutoff, **kwargs):\n",
    "    original = parse_jaxpr(fun)[0]\n",
    "    fun_ = partial(fun, **kwargs)\n",
    "    approx = parse_jaxpr(approximation(fun_, cutoff))[0]\n",
    "    sig = inspect.signature(fun)\n",
    "    inp = tuple(sig.parameters.keys())[0]\n",
    "    filter = f\"step({inp} - {cutoff})\"\n",
    "    return f\"select({filter}, {original}, {approx})\"\n",
    "\n",
    "# parse_jaxpr(approx_with_linear(lennard_jones, cutoff=0.1, sigma0=0.1, epsilon0=0.1))[0]\n",
    "approx(partial(lennard_jones, sigma=0.316435, epsilon=0.680946), partial(approx_with_square, slope=10.), 0.8)"
   ]
  },
  {
   "cell_type": "code",
   "execution_count": 24,
   "id": "a0082985-df56-4215-aa5c-c5a0a8c635f0",
   "metadata": {},
   "outputs": [
    {
     "data": {
      "text/plain": [
       "inspect._empty"
      ]
     },
     "execution_count": 25,
     "metadata": {},
     "output_type": "execute_result"
    }
   ],
   "source": [
    "sig = inspect.signature(partial(lennard_jones, sigma=0.3, epsilon=4.))\n",
    "ist(sig.parameters.values())[0].default\n",
    "    "
   ]
  },
  {
   "cell_type": "code",
   "execution_count": 6,
   "id": "67492e59-f3f1-422b-9147-afe37ec827ca",
   "metadata": {},
   "outputs": [
    {
     "data": {
      "text/plain": [
       "'select(step(r - 0.08), ((4.0 * epsilon) * ((sigma / r)^12 - (sigma / r)^6)), ((-83337707520.0 * r) + 7222554112.0))'"
      ]
     },
     "execution_count": 6,
     "metadata": {},
     "output_type": "execute_result"
    }
   ],
   "source": [
    "approx(lennard_jones, approx_with_linear, 0.08,  sigma=0.34, epsilon=4.)"
   ]
  },
  {
   "cell_type": "code",
   "execution_count": 41,
   "id": "872b834a-e5c3-4806-b256-ed2e340051bd",
   "metadata": {},
   "outputs": [
    {
     "data": {
      "text/plain": [
       "('((4.0 * r) * ((epsilon / sigma)^12 - (epsilon / sigma)^6))',)"
      ]
     },
     "execution_count": 41,
     "metadata": {},
     "output_type": "execute_result"
    }
   ],
   "source": [
    "parse_jaxpr(lennard_jones)"
   ]
  },
  {
   "cell_type": "code",
   "execution_count": null,
   "id": "ceb03d3f-41e1-416a-9ff0-a6be067a9ab3",
   "metadata": {},
   "outputs": [],
   "source": []
  }
 ],
 "metadata": {
  "kernelspec": {
   "display_name": "Python 3 (ipykernel)",
   "language": "python",
   "name": "python3"
  },
  "language_info": {
   "codemirror_mode": {
    "name": "ipython",
    "version": 3
   },
   "file_extension": ".py",
   "mimetype": "text/x-python",
   "name": "python",
   "nbconvert_exporter": "python",
   "pygments_lexer": "ipython3",
   "version": "3.10.8"
  }
 },
 "nbformat": 4,
 "nbformat_minor": 5
}
