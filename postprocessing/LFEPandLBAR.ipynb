{
 "cells": [
  {
   "attachments": {},
   "cell_type": "markdown",
   "metadata": {},
   "source": [
    "# Posprocessing a run"
   ]
  },
  {
   "cell_type": "code",
   "execution_count": 1,
   "metadata": {},
   "outputs": [],
   "source": [
    "%load_ext autoreload\n",
    "%autoreload 2"
   ]
  },
  {
   "cell_type": "code",
   "execution_count": 2,
   "metadata": {},
   "outputs": [
    {
     "name": "stdout",
     "output_type": "stream",
     "text": [
      "env: XLA_PYTHON_CLIENT_ALLOCATOR=platform\n"
     ]
    }
   ],
   "source": [
    "# %env XLA_PYTHON_CLIENT_MEM_FRACTION=.6\n",
    "%env XLA_PYTHON_CLIENT_ALLOCATOR=platform"
   ]
  },
  {
   "cell_type": "code",
   "execution_count": 3,
   "metadata": {},
   "outputs": [
    {
     "name": "stderr",
     "output_type": "stream",
     "text": [
      "2023-03-03 12:24:33.909949: W tensorflow/compiler/xla/stream_executor/platform/default/dso_loader.cc:64] Could not load dynamic library 'libnvinfer.so.7'; dlerror: libnvinfer.so.7: cannot open shared object file: No such file or directory; LD_LIBRARY_PATH: :/home/mi/minvernizzi/.local/lib\n",
      "2023-03-03 12:24:33.910039: W tensorflow/compiler/xla/stream_executor/platform/default/dso_loader.cc:64] Could not load dynamic library 'libnvinfer_plugin.so.7'; dlerror: libnvinfer_plugin.so.7: cannot open shared object file: No such file or directory; LD_LIBRARY_PATH: :/home/mi/minvernizzi/.local/lib\n",
      "2023-03-03 12:24:33.910046: W tensorflow/compiler/tf2tensorrt/utils/py_utils.cc:38] TF-TRT Warning: Cannot dlopen some TensorRT libraries. If you would like to use Nvidia GPU with TensorRT, please make sure the missing libraries mentioned above are installed properly.\n"
     ]
    },
    {
     "data": {
      "application/vnd.jupyter.widget-view+json": {
       "model_id": "e927ba6f3beb489a91cecc3229d3bb36",
       "version_major": 2,
       "version_minor": 0
      },
      "text/plain": []
     },
     "metadata": {},
     "output_type": "display_data"
    }
   ],
   "source": [
    "import lenses\n",
    "import jax\n",
    "import numpy as np\n",
    "from jax import numpy as jnp\n",
    "from typing import cast\n",
    "import matplotlib.pyplot as plt\n",
    "from tqdm import trange\n",
    "\n",
    "from flox.util import key_chain\n",
    "from flox.flow import Pipe, Inverted, bind\n",
    "from functools import partial\n",
    "import equinox as eqx\n",
    "\n",
    "from rigid_flows.flow import build_flow, RigidWithAuxiliary\n",
    "from rigid_flows.data import Data, DataWithAuxiliary\n",
    "from rigid_flows.density import OpenMMDensity\n",
    "from rigid_flows.specs import ExperimentSpecification\n",
    "from rigid_flows.utils import jit_and_cleanup_cache, scanned_vmap"
   ]
  },
  {
   "cell_type": "code",
   "execution_count": 4,
   "metadata": {},
   "outputs": [
    {
     "name": "stderr",
     "output_type": "stream",
     "text": [
      "Warning on use of the timeseries module: If the inherent timescales of the system are long compared to those being analyzed, this statistical inefficiency may be an underestimate.  The estimate presumes the use of many statistically independent samples.  Tests should be performed to assess whether this condition is satisfied.   Be cautious in the interpretation of the data.\n"
     ]
    },
    {
     "name": "stdout",
     "output_type": "stream",
     "text": [
      "pymbar: force_no_jax = True\n"
     ]
    }
   ],
   "source": [
    "## pymbar changes jax default to float64, which is a problem https://github.com/choderalab/pymbar/blob/4afa42064c39658b7b7945808973b958e16f35f2/pymbar/mbar_solvers.py#L18\n",
    "## here we load a modified pymbar\n",
    "import pymbar"
   ]
  },
  {
   "cell_type": "code",
   "execution_count": 5,
   "metadata": {},
   "outputs": [],
   "source": [
    "chain = key_chain(42)\n",
    "\n",
    "def count_params(model):\n",
    "    return jax.tree_util.tree_reduce(\n",
    "        lambda s, n: s + n.size if eqx.is_array(n) else s,\n",
    "        model,\n",
    "        jnp.zeros((), dtype=jnp.int32),\n",
    "    ).item()"
   ]
  },
  {
   "cell_type": "code",
   "execution_count": 6,
   "metadata": {},
   "outputs": [
    {
     "name": "stdout",
     "output_type": "stream",
     "text": [
      "+++ trainng stage 0, epoch 9 +++\n",
      "../logdir/antelope_N128_T50_lr_2023-03-02_16:13:38/training_stage_0/epoch_9/model.eqx\n"
     ]
    }
   ],
   "source": [
    "#######################################################################################################\n",
    "\n",
    "logdir_path = \"../logdir/\"\n",
    "# logdir_path += 'tuna_N16_T50_2023-02-23_11:41:34'\n",
    "\n",
    "folder = !ls -d {logdir_path}antelope_N128_T50_lr*\n",
    "logdir_path = folder[-1]\n",
    "\n",
    "#######################################################################################################\n",
    "\n",
    "# logdir_path = \"../testing\"\n",
    "\n",
    "#######################################################################################################\n",
    "\n",
    "stage = !ls -d {logdir_path}/training_stage* |wc -l\n",
    "stage = int(stage[0]) - 1\n",
    "epoch = !ls -d {logdir_path}/training_stage_{stage}/epoch_* |wc -l\n",
    "epoch = int(epoch[0]) - 1\n",
    "print(f\"+++ trainng stage {stage}, epoch {epoch} +++\")\n",
    "specs_path = f\"{logdir_path}/config.yaml\"\n",
    "pretrained_model_path = f\"{logdir_path}/training_stage_{stage}/epoch_{epoch}/model.eqx\"\n",
    "print(pretrained_model_path)"
   ]
  },
  {
   "cell_type": "code",
   "execution_count": 7,
   "metadata": {},
   "outputs": [
    {
     "name": "stdout",
     "output_type": "stream",
     "text": [
      "tot flow parameters: 7_458_896\n",
      "MD training datapoints = 100_000\n",
      "MD eval datapoints = 10_000\n",
      "batchs per epoch = 2000\n",
      "batch size = 32\n",
      "data fraction: 6.4\n"
     ]
    }
   ],
   "source": [
    "specs = ExperimentSpecification.load_from_file(specs_path)\n",
    "specs = lenses.bind(specs).model.base.path.set(specs.model.base.path + \"/eval_100\")\n",
    "num_eval_samples = 10_000\n",
    "selection = np.s_[-num_eval_samples:]\n",
    "\n",
    "base = OpenMMDensity.from_specs(specs.model.use_auxiliary, specs.model.base, selection)\n",
    "target = OpenMMDensity.from_specs(specs.model.use_auxiliary, specs.model.target, selection)\n",
    "model = base.omm_model.model\n",
    "\n",
    "flow = build_flow(\n",
    "    next(chain),\n",
    "    specs.model.base.num_molecules,\n",
    "    specs.model.use_auxiliary,\n",
    "    specs.model.flow,\n",
    ")\n",
    "flow = cast(\n",
    "    Pipe[DataWithAuxiliary, RigidWithAuxiliary],\n",
    "    eqx.tree_deserialise_leaves(pretrained_model_path, flow),\n",
    ")\n",
    "\n",
    "training_data_size = 100_000 if specs.model.base.num_samples is None else specs.model.base.num_samples\n",
    "print(f\"tot flow parameters: {count_params(flow):_}\")\n",
    "print(f\"MD training datapoints = {training_data_size:_}\")\n",
    "print(f\"MD eval datapoints = {base.data.pos.shape[0]:_}\")\n",
    "print(f\"batchs per epoch = {specs.train[0].num_iters_per_epoch}\")\n",
    "print(f\"batch size = {specs.train[0].num_samples}\")\n",
    "print(f\"data fraction: {specs.train[0].num_epochs*specs.train[0].num_samples*specs.train[0].num_iters_per_epoch/training_data_size}\")"
   ]
  },
  {
   "cell_type": "code",
   "execution_count": 8,
   "metadata": {},
   "outputs": [
    {
     "data": {
      "text/plain": [
       "(-14522.10556, 0.13929)"
      ]
     },
     "execution_count": 8,
     "metadata": {},
     "output_type": "execute_result"
    }
   ],
   "source": [
    "try:\n",
    "    ref_file = f\"../data/water/DeltaF_estimates/DF-{specs.model.base}-{specs.model.target}.txt\"\n",
    "    reference_deltaF, reference_deltaF_std = np.loadtxt(ref_file, unpack=True)\n",
    "except FileNotFoundError:\n",
    "    reference_deltaF, reference_deltaF_std = None, None\n",
    "\n",
    "reference_deltaF, reference_deltaF_std"
   ]
  },
  {
   "cell_type": "code",
   "execution_count": 9,
   "metadata": {},
   "outputs": [],
   "source": [
    "def ess(logw):\n",
    "    return jnp.exp(\n",
    "        2 * jax.scipy.special.logsumexp(logw) - jax.scipy.special.logsumexp(2 * logw)\n",
    "    )\n",
    "\n",
    "\n",
    "def plot_2Dview(\n",
    "    data_tr: DataWithAuxiliary, title: str, toPBC: bool = True, skip: int = 10\n",
    "):\n",
    "    model.plot_2Dview(\n",
    "        data_tr.obj.pos.reshape(-1, model.n_atoms, 3), toPBC=toPBC, title=title\n",
    "    )\n",
    "\n",
    "\n",
    "hist_kwargs = {\"bins\": \"auto\", \"density\": True, \"alpha\": 0.5}\n",
    "\n",
    "\n",
    "def plot_results(\n",
    "    deltaFs,\n",
    "    reference_deltaF=reference_deltaF,\n",
    "    reference_deltaF_std=reference_deltaF_std,\n",
    "    LFEPdeltaFs=None,\n",
    "    ESSs=None,\n",
    "    num_samples=10_000,\n",
    "    std_deltaFs=None,\n",
    "    LFEPonly=False,\n",
    "):\n",
    "    if ESSs is not None and not LFEPonly:\n",
    "        plt.plot(ESSs[:, 0] / num_samples * 100, \"-o\", label=\"forward\")\n",
    "        plt.plot(ESSs[:, 1] / num_samples * 100, \"-o\", label=\"inverse\")\n",
    "        plt.axhline(100 / num_samples, c=\"k\", ls=\":\", label=\"ESS=1\")\n",
    "        plt.ylabel(\"ESS %\")\n",
    "        plt.legend()\n",
    "        plt.show()\n",
    "        print(f\"average ESS: {ESSs[:,0].mean() / num_samples:.2%} +/- {ESSs[:,0].std() / num_samples:.2%}\")\n",
    "\n",
    "    xlim = [0, len(deltaFs)]\n",
    "    n = 2  # how many sigmas for errorbar\n",
    "\n",
    "    if LFEPdeltaFs is not None:\n",
    "        if not LFEPonly:\n",
    "            plt.plot(LFEPdeltaFs[:, 1], \".\", c=\"blue\", label=\"LFEP_target\")\n",
    "            x = 2 * [LFEPdeltaFs[:, 1].mean()]\n",
    "            plt.fill_between(\n",
    "                xlim,\n",
    "                x - n * LFEPdeltaFs[:, 1].std(),\n",
    "                x + n * LFEPdeltaFs[:, 1].std(),\n",
    "                color=\"blue\",\n",
    "                alpha=0.3,\n",
    "            )\n",
    "            plt.axhline(LFEPdeltaFs[:, 1].mean(), c=\"blue\")\n",
    "\n",
    "        plt.plot(LFEPdeltaFs[:, 0], \".\", c=\"green\", label=\"LFEP_base\")\n",
    "        x = 2 * [LFEPdeltaFs[:, 0].mean()]\n",
    "        plt.fill_between(\n",
    "            xlim,\n",
    "            x - n * LFEPdeltaFs[:, 0].std(),\n",
    "            x + n * LFEPdeltaFs[:, 0].std(),\n",
    "            color=\"green\",\n",
    "            alpha=0.3,\n",
    "        )\n",
    "        plt.axhline(LFEPdeltaFs[:, 0].mean(), c=\"green\")\n",
    "\n",
    "    if not LFEPonly:\n",
    "        plt.plot(deltaFs, \".\", c=\"orange\", label=\"LBAR\")\n",
    "        x = 2 * [deltaFs.mean()]\n",
    "        plt.fill_between(\n",
    "            xlim, x - n * deltaFs.std(), x + n * deltaFs.std(), color=\"orange\", alpha=0.3\n",
    "        )\n",
    "        plt.axhline(deltaFs.mean(), c=\"orange\")\n",
    "\n",
    "    if reference_deltaF is not None:\n",
    "        plt.axhline(reference_deltaF, c=\"k\", ls=\":\", label=\"MBAR reference\")\n",
    "        x = np.array(2 * [reference_deltaF])\n",
    "        plt.fill_between(\n",
    "            xlim,\n",
    "            x - n * reference_deltaF_std,\n",
    "            x + n * reference_deltaF_std,\n",
    "            color=\"k\",\n",
    "            alpha=0.1,\n",
    "        )\n",
    "    plt.xlim(xlim)\n",
    "    plt.legend()\n",
    "    plt.show()"
   ]
  },
  {
   "cell_type": "code",
   "execution_count": 10,
   "metadata": {},
   "outputs": [],
   "source": [
    "sc = model.n_molecules\n",
    "n_sigmas = 2"
   ]
  },
  {
   "cell_type": "code",
   "execution_count": 11,
   "metadata": {},
   "outputs": [
    {
     "data": {
      "image/png": "[encoded data removed]",
      "text/plain": [
       "<Figure size 640x480 with 1 Axes>"
      ]
     },
     "metadata": {},
     "output_type": "display_data"
    },
    {
     "name": "stdout",
     "output_type": "stream",
     "text": [
      "average ESS: 0.05% +/- 0.03%\n"
     ]
    },
    {
     "data": {
      "image/png": "[encoded data removed]",
      "text/plain": [
       "<Figure size 640x480 with 1 Axes>"
      ]
     },
     "metadata": {},
     "output_type": "display_data"
    },
    {
     "data": {
      "image/png": "[encoded data removed]",
      "text/plain": [
       "<Figure size 640x480 with 1 Axes>"
      ]
     },
     "metadata": {},
     "output_type": "display_data"
    },
    {
     "name": "stdout",
     "output_type": "stream",
     "text": [
      "DeltaF_LBAR      = -113.463527 +/- 0.00144679\n",
      "DeltaF_LFEP_base = -113.453440 +/- 0.0168497\n",
      "DeltaF_ref       = -113.453950 +/- 0.00217641\n"
     ]
    },
    {
     "ename": "SystemError",
     "evalue": "LBARstats found, sure you want to recalculate them?",
     "output_type": "error",
     "traceback": [
      "\u001b[0;31m---------------------------------------------------------------------------\u001b[0m",
      "\u001b[0;31mSystemError\u001b[0m                               Traceback (most recent call last)",
      "Cell \u001b[0;32mIn[11], line 15\u001b[0m\n\u001b[1;32m     13\u001b[0m \u001b[39mprint\u001b[39m(\u001b[39mf\u001b[39m\u001b[39m\"\u001b[39m\u001b[39mDeltaF_LFEP_base = \u001b[39m\u001b[39m{\u001b[39;00mstats[\u001b[39m'\u001b[39m\u001b[39mLFEPdeltaFs\u001b[39m\u001b[39m'\u001b[39m][:,\u001b[39m0\u001b[39m]\u001b[39m.\u001b[39mmean()\u001b[39m/\u001b[39msc\u001b[39m:\u001b[39;00m\u001b[39m.6f\u001b[39m\u001b[39m}\u001b[39;00m\u001b[39m +/- \u001b[39m\u001b[39m{\u001b[39;00mn_sigmas\u001b[39m*\u001b[39mstats[\u001b[39m'\u001b[39m\u001b[39mLFEPdeltaFs\u001b[39m\u001b[39m'\u001b[39m][:,\u001b[39m0\u001b[39m]\u001b[39m.\u001b[39mstd()\u001b[39m/\u001b[39msc\u001b[39m:\u001b[39;00m\u001b[39mg\u001b[39m\u001b[39m}\u001b[39;00m\u001b[39m\"\u001b[39m)\n\u001b[1;32m     14\u001b[0m \u001b[39mprint\u001b[39m(\u001b[39mf\u001b[39m\u001b[39m\"\u001b[39m\u001b[39mDeltaF_ref       = \u001b[39m\u001b[39m{\u001b[39;00mreference_deltaF\u001b[39m/\u001b[39msc\u001b[39m:\u001b[39;00m\u001b[39m.6f\u001b[39m\u001b[39m}\u001b[39;00m\u001b[39m +/- \u001b[39m\u001b[39m{\u001b[39;00mn_sigmas\u001b[39m*\u001b[39mreference_deltaF_std\u001b[39m/\u001b[39msc\u001b[39m:\u001b[39;00m\u001b[39mg\u001b[39m\u001b[39m}\u001b[39;00m\u001b[39m\"\u001b[39m)\n\u001b[0;32m---> 15\u001b[0m \u001b[39mraise\u001b[39;00m \u001b[39mSystemError\u001b[39;00m(\u001b[39m'\u001b[39m\u001b[39mLBARstats found, sure you want to recalculate them?\u001b[39m\u001b[39m'\u001b[39m)\n",
      "\u001b[0;31mSystemError\u001b[0m: LBARstats found, sure you want to recalculate them?"
     ]
    }
   ],
   "source": [
    "filename = f'{logdir_path}/training_stage_{stage}/epoch_{epoch}/LBARstats'\n",
    "stats_found = False\n",
    "try: \n",
    "    stats = np.load(filename+'.npz')\n",
    "    stats_found = True\n",
    "except FileNotFoundError:\n",
    "    print('no LBARstats found')\n",
    "\n",
    "if stats_found:\n",
    "    plot_results(**stats)\n",
    "    plot_results(**stats, LFEPonly=True)\n",
    "    print(f\"DeltaF_LBAR      = {stats['deltaFs'].mean()/sc:.6f} +/- {n_sigmas*stats['deltaFs'].std()/sc:g}\")\n",
    "    print(f\"DeltaF_LFEP_base = {stats['LFEPdeltaFs'][:,0].mean()/sc:.6f} +/- {n_sigmas*stats['LFEPdeltaFs'][:,0].std()/sc:g}\")\n",
    "    print(f\"DeltaF_ref       = {reference_deltaF/sc:.6f} +/- {n_sigmas*reference_deltaF_std/sc:g}\")\n",
    "    raise SystemError('LBARstats found, sure you want to recalculate them?')"
   ]
  },
  {
   "cell_type": "code",
   "execution_count": null,
   "metadata": {},
   "outputs": [],
   "source": [
    "batch_size = 1000\n",
    "def jitvmap(fn, batch_size=batch_size):\n",
    "    if batch_size is None:\n",
    "        return jax.jit(jax.vmap(fn))\n",
    "    else:\n",
    "        return jax.jit(scanned_vmap(fn, batch_size))"
   ]
  },
  {
   "cell_type": "code",
   "execution_count": null,
   "metadata": {},
   "outputs": [],
   "source": [
    "num_samples = 10_000\n",
    "\n",
    "print('sampling base')\n",
    "keys = jax.random.split(next(chain), num_samples)\n",
    "base_tr = jitvmap(base.sample)(keys)\n",
    "\n",
    "print('mapping')\n",
    "mapped_tr = jitvmap(flow.forward)(base_tr.obj)\n",
    "\n",
    "print('getting logw')\n",
    "logw = base_tr.ldj + mapped_tr.ldj - jitvmap(target.potential)(mapped_tr.obj)\n",
    "\n",
    "plt.hist(jnp.exp(logw-logw.max()), bins=100)\n",
    "plt.yscale('log')\n",
    "plt.show()\n",
    "\n",
    "print(f'ESS = {ess(logw):g}  ->  {ess(logw)/len(logw):.2%}')\n"
   ]
  },
  {
   "cell_type": "code",
   "execution_count": null,
   "metadata": {},
   "outputs": [],
   "source": [
    "print('sampling target')\n",
    "keys = jax.random.split(next(chain), num_samples)\n",
    "target_tr = jitvmap(target.sample)(keys)\n",
    "\n",
    "print('mapping')\n",
    "back_mapped_tr = jitvmap(flow.inverse)(target_tr.obj)\n",
    "\n",
    "print('getting logw')\n",
    "## NB: base_tr.ldj = jax.vmap(base.potential)(base_tr.obj)\n",
    "back_logw = target_tr.ldj + back_mapped_tr.ldj - jitvmap(base.potential)(back_mapped_tr.obj)\n",
    "\n",
    "plt.hist(jnp.exp(back_logw - back_logw.max()), bins=100)\n",
    "plt.yscale('log')\n",
    "plt.show()\n",
    "\n",
    "print(f'ESS = {ess(back_logw):g}  ->  {ess(back_logw)/len(back_logw):.2%}')"
   ]
  },
  {
   "cell_type": "code",
   "execution_count": null,
   "metadata": {},
   "outputs": [],
   "source": [
    "plot_2Dview(base_tr, title='base')\n",
    "plot_2Dview(back_mapped_tr, title='back_mapped')\n",
    "\n",
    "plot_2Dview(target_tr, title='target')\n",
    "plot_2Dview(mapped_tr, title='mapped')"
   ]
  },
  {
   "cell_type": "code",
   "execution_count": null,
   "metadata": {},
   "outputs": [],
   "source": [
    "ene_label = 'omm'\n",
    "scaling = 1\n",
    "if ene_label == 'omm':\n",
    "    scaling = target.omm_model.kbT\n",
    "base_ene2 = target.compute_energies(base_tr.obj, True, False, True)[ene_label] * scaling\n",
    "target_ene2 = target.compute_energies(target_tr.obj, True, False, True)[ene_label] * scaling\n",
    "mapped_ene2 = target.compute_energies(mapped_tr.obj, True, False, True)[ene_label] * scaling\n",
    "back_mapped_ene2 = target.compute_energies(back_mapped_tr.obj, True, False, True)[ene_label] * scaling"
   ]
  },
  {
   "cell_type": "code",
   "execution_count": null,
   "metadata": {},
   "outputs": [],
   "source": [
    "plt.hist(base_ene2, **hist_kwargs, label='base')\n",
    "plt.hist(mapped_ene2, **hist_kwargs, label='mapped', histtype='step')\n",
    "plt.hist(target_ene2, **hist_kwargs, label='target')\n",
    "plt.hist(back_mapped_ene2, **hist_kwargs, label='back_mapped', histtype='step')\n",
    "# plt.hist(mapped_ene2, weights=jnp.exp(logw-jax.scipy.special.logsumexp(logw)), bins=75, histtype='step', density=True, label='reweighted')\n",
    "plt.xlabel(ene_label + ' energy [kJ/mol]') #it's kJ/mol only for omm energies\n",
    "plt.legend()\n",
    "plt.show()"
   ]
  },
  {
   "cell_type": "code",
   "execution_count": null,
   "metadata": {},
   "outputs": [],
   "source": [
    "## LFEP\n",
    "\n",
    "deltaF = (jnp.log(len(logw)) - jax.scipy.special.logsumexp(logw)).item()\n",
    "print(f'Estimated deltaF from base   (above) = {deltaF:g}')\n",
    "\n",
    "back_deltaF = -(jnp.log(len(back_logw)) - jax.scipy.special.logsumexp(back_logw)).item()\n",
    "print(f'Estimated deltaF from target (below) = {back_deltaF:g}')\n",
    "\n",
    "if reference_deltaF is not None:\n",
    "    print(f'               Reference MBAR deltaF = {reference_deltaF:g} +/- {reference_deltaF_std:g}')"
   ]
  },
  {
   "cell_type": "code",
   "execution_count": null,
   "metadata": {},
   "outputs": [],
   "source": [
    "# raise SystemError('Stop here')"
   ]
  },
  {
   "cell_type": "markdown",
   "metadata": {},
   "source": [
    "## compute LBAR"
   ]
  },
  {
   "cell_type": "code",
   "execution_count": null,
   "metadata": {},
   "outputs": [],
   "source": [
    "N_k = np.array([mapped_tr.obj.pos.shape[0], back_mapped_tr.obj.pos.shape[0]])\n",
    "\n",
    "u_kn = np.empty((2, N_k.sum()))\n",
    "u_kn[0] = np.concatenate([target_tr.ldj, base_tr.ldj - logw])\n",
    "u_kn[1] = np.concatenate([target_tr.ldj - back_logw, base_tr.ldj])\n",
    "\n",
    "N_k.shape, u_kn.shape"
   ]
  },
  {
   "cell_type": "code",
   "execution_count": null,
   "metadata": {},
   "outputs": [],
   "source": [
    "mbar = pymbar.MBAR(u_kn, N_k, n_bootstraps=200, solver_protocol='robust')\n",
    "# mbar = pymbar.MBAR(u_kn, N_k, n_bootstraps=200, initial_f_k=u_kn.mean(axis=1))"
   ]
  },
  {
   "cell_type": "code",
   "execution_count": null,
   "metadata": {},
   "outputs": [],
   "source": [
    "results = mbar.compute_free_energy_differences(uncertainty_method=\"bootstrap\")\n",
    "\n",
    "print(f\"DeltaF = {results['Delta_f'][-1,0]} +/- {results['dDelta_f'][-1,0]:g}\")"
   ]
  },
  {
   "attachments": {},
   "cell_type": "markdown",
   "metadata": {},
   "source": [
    "## estimate with uncertainty"
   ]
  },
  {
   "cell_type": "code",
   "execution_count": null,
   "metadata": {},
   "outputs": [],
   "source": [
    "num_iterations = 10\n",
    "num_samples = 10_000 #num_eval_samples // num_iterations\n",
    "print(f'Runnig {num_iterations} iterations with {num_samples:_} samples, out of {num_eval_samples:_}')\n",
    "\n",
    "\n",
    "N_k = np.array(2*[num_samples])\n",
    "u_kn = np.zeros((2, 2*num_samples))\n",
    "\n",
    "LFEPdeltaFs = np.zeros((num_iterations, 2))\n",
    "deltaFs = np.zeros(num_iterations)\n",
    "std_deltaFs = np.zeros(num_iterations)\n",
    "ESSs = np.zeros((num_iterations, 2))\n",
    "for i in range(num_iterations):# again, this only works on startup!\n",
    "    print('\\niter:', i)\n",
    "    print('sampling base...', end='\\r')\n",
    "    keys = jax.random.split(next(chain), num_samples)\n",
    "    base_tr = jitvmap(base.sample)(keys)\n",
    "    mapped_tr = jitvmap(flow.forward)(base_tr.obj)\n",
    "    logw = base_tr.ldj + mapped_tr.ldj - jitvmap(target.potential)(mapped_tr.obj)\n",
    "    ESSs[i, 0] = ess(logw)\n",
    "    LFEPdeltaFs[i,0] = (jnp.log(len(logw)) - jax.scipy.special.logsumexp(logw)).item()\n",
    "    print(f'DeltaF = {LFEPdeltaFs[i,0]}, efficiency = {ESSs[i, 0]/len(logw):.2%}')\n",
    "    \n",
    "    print('sampling target...', end='\\r')\n",
    "    keys = jax.random.split(next(chain), num_samples)\n",
    "    target_tr = jitvmap(target.sample)(keys)\n",
    "    back_mapped_tr = jitvmap(flow.inverse)(target_tr.obj)\n",
    "    back_logw = target_tr.ldj + back_mapped_tr.ldj - jitvmap(base.potential)(back_mapped_tr.obj)\n",
    "    ESSs[i, 1] = ess(back_logw)\n",
    "    LFEPdeltaFs[i,1] = -(jnp.log(len(back_logw)) - jax.scipy.special.logsumexp(back_logw)).item()\n",
    "    print(f'DeltaF = {LFEPdeltaFs[i,1]}, efficiency = {ESSs[i, 1]/len(back_logw):.2%}')\n",
    "\n",
    "    print('calc mbar...', end='\\r')\n",
    "    u_kn[0] = np.concatenate([target_tr.ldj, base_tr.ldj - logw])\n",
    "    u_kn[1] = np.concatenate([target_tr.ldj - back_logw, base_tr.ldj])\n",
    "    mbar = pymbar.MBAR(u_kn, N_k, n_bootstraps=100, solver_protocol='robust')\n",
    "    results = mbar.compute_free_energy_differences(uncertainty_method=\"bootstrap\")\n",
    "    deltaFs[i] = results['Delta_f'][-1,0]\n",
    "    std_deltaFs[i] = results['dDelta_f'][-1,0]\n",
    "    print(f\"DeltaF = {results['Delta_f'][-1,0]} +/- {results['dDelta_f'][-1,0]:g}\")"
   ]
  },
  {
   "cell_type": "code",
   "execution_count": null,
   "metadata": {},
   "outputs": [],
   "source": [
    "plot_results(deltaFs, reference_deltaF, reference_deltaF_std, LFEPdeltaFs, ESSs, num_samples)\n",
    "plot_results(deltaFs, reference_deltaF, reference_deltaF_std, LFEPdeltaFs, None, num_samples, LFEPonly=True)\n",
    "print(f\"average ESS: {ESSs[:,0].mean() / num_samples:.2%} +/- {ESSs[:,0].std() / num_samples:.2%}\")"
   ]
  },
  {
   "cell_type": "code",
   "execution_count": null,
   "metadata": {},
   "outputs": [],
   "source": [
    "# filename = f'{logdir_path}/training_stage_{stage}/epoch_{epoch}/LBARstats'\n",
    "np.savez(filename, ESSs=ESSs, LFEPdeltaFs=LFEPdeltaFs, deltaFs=deltaFs, std_deltaFs=std_deltaFs, num_samples=num_samples)"
   ]
  },
  {
   "cell_type": "code",
   "execution_count": null,
   "metadata": {},
   "outputs": [],
   "source": []
  }
 ],
 "metadata": {
  "kernelspec": {
   "display_name": "Python 3.10.8 ('flox')",
   "language": "python",
   "name": "python3"
  },
  "language_info": {
   "codemirror_mode": {
    "name": "ipython",
    "version": 3
   },
   "file_extension": ".py",
   "mimetype": "text/x-python",
   "name": "python",
   "nbconvert_exporter": "python",
   "pygments_lexer": "ipython3",
   "version": "3.10.8"
  },
  "orig_nbformat": 4,
  "vscode": {
   "interpreter": {
    "hash": "52d865f241f5cf4532d2b38dc6618aea3fdd872b067fcdc4aedd37cb5878aec8"
   }
  }
 },
 "nbformat": 4,
 "nbformat_minor": 2
}
