{
 "cells": [
  {
   "attachments": {},
   "cell_type": "markdown",
   "metadata": {},
   "source": [
    "# Posprocessing a run"
   ]
  },
  {
   "cell_type": "code",
   "execution_count": 1,
   "metadata": {},
   "outputs": [],
   "source": [
    "%load_ext autoreload\n",
    "%autoreload 2"
   ]
  },
  {
   "cell_type": "code",
   "execution_count": 2,
   "metadata": {},
   "outputs": [
    {
     "name": "stdout",
     "output_type": "stream",
     "text": [
      "env: XLA_PYTHON_CLIENT_MEM_FRACTION=.6\n"
     ]
    }
   ],
   "source": [
    "%env XLA_PYTHON_CLIENT_MEM_FRACTION=.6"
   ]
  },
  {
   "cell_type": "code",
   "execution_count": 3,
   "metadata": {},
   "outputs": [
    {
     "name": "stderr",
     "output_type": "stream",
     "text": [
      "2023-01-30 09:49:57.831833: W tensorflow/compiler/xla/stream_executor/platform/default/dso_loader.cc:64] Could not load dynamic library 'libnvinfer.so.7'; dlerror: libnvinfer.so.7: cannot open shared object file: No such file or directory; LD_LIBRARY_PATH: :/home/mi/minvernizzi/.local/lib\n",
      "2023-01-30 09:49:57.831939: W tensorflow/compiler/xla/stream_executor/platform/default/dso_loader.cc:64] Could not load dynamic library 'libnvinfer_plugin.so.7'; dlerror: libnvinfer_plugin.so.7: cannot open shared object file: No such file or directory; LD_LIBRARY_PATH: :/home/mi/minvernizzi/.local/lib\n",
      "2023-01-30 09:49:57.831946: W tensorflow/compiler/tf2tensorrt/utils/py_utils.cc:38] TF-TRT Warning: Cannot dlopen some TensorRT libraries. If you would like to use Nvidia GPU with TensorRT, please make sure the missing libraries mentioned above are installed properly.\n"
     ]
    },
    {
     "data": {
      "application/vnd.jupyter.widget-view+json": {
       "model_id": "d2385922fef64d04be7df7be150476fe",
       "version_major": 2,
       "version_minor": 0
      },
      "text/plain": []
     },
     "metadata": {},
     "output_type": "display_data"
    }
   ],
   "source": [
    "import lenses\n",
    "import jax\n",
    "import numpy as np\n",
    "from jax import numpy as jnp\n",
    "from typing import cast\n",
    "import matplotlib.pyplot as plt\n",
    "from matplotlib.ticker import FormatStrFormatter\n",
    "from tqdm import trange\n",
    "\n",
    "from flox.util import key_chain\n",
    "from flox.flow import Pipe, Inverted, bind#, Transform, Transformed\n",
    "import equinox as eqx\n",
    "from functools import partial\n",
    "\n",
    "from rigid_flows.flow import build_flow, RigidWithAuxiliary\n",
    "from rigid_flows.data import Data, DataWithAuxiliary\n",
    "from rigid_flows.density import OpenMMDensity\n",
    "from rigid_flows.specs import FlowSpecification, CouplingSpecification, ExperimentSpecification\n",
    "# from rigid_flows.density import PositionPrior, RotationPrior\n",
    "from rigid_flows.utils import jit_and_cleanup_cache, scanned_vmap\n",
    "\n",
    "chain = key_chain(42)"
   ]
  },
  {
   "cell_type": "code",
   "execution_count": 4,
   "metadata": {},
   "outputs": [],
   "source": [
    "#set bigger font sizes\n",
    "SMALL_SIZE = 12\n",
    "MEDIUM_SIZE = 14\n",
    "BIG_SIZE = 16\n",
    "\n",
    "plt.rc('font', size=SMALL_SIZE)        # controls default text sizes\n",
    "plt.rc('axes', titlesize=SMALL_SIZE)   # fontsize of the axes title\n",
    "plt.rc('axes', labelsize=MEDIUM_SIZE)  # fontsize of the x and y labels\n",
    "plt.rc('xtick', labelsize=SMALL_SIZE)  # fontsize of the tick labels\n",
    "plt.rc('ytick', labelsize=SMALL_SIZE)  # fontsize of the tick labels\n",
    "plt.rc('legend', fontsize=SMALL_SIZE)  # legend fontsize\n",
    "plt.rc('figure', titlesize=BIG_SIZE)   # fontsize of the figure title"
   ]
  },
  {
   "cell_type": "code",
   "execution_count": 5,
   "metadata": {},
   "outputs": [],
   "source": [
    "def count_params(model):\n",
    "    return jax.tree_util.tree_reduce(\n",
    "        lambda s, n: s + n.size if eqx.is_array(n) else s, model, jnp.zeros((), dtype=jnp.int32)).item()\n",
    "\n",
    "def ess(logw):\n",
    "    return jnp.exp(2*jax.scipy.special.logsumexp(logw)-jax.scipy.special.logsumexp(2*logw))"
   ]
  },
  {
   "cell_type": "code",
   "execution_count": 6,
   "metadata": {},
   "outputs": [
    {
     "name": "stdout",
     "output_type": "stream",
     "text": [
      "+++ epoch 9 +++\n",
      "/group/ag_cmb/scratch/jonkhler/so3-flow/water/old/dragonfly_N128_T50_2023-01-22_17:44:19/training_stage_0/epoch_9/model.eqx\n"
     ]
    },
    {
     "ename": "ValueError",
     "evalue": "can only convert an array of size 1 to a Python scalar",
     "output_type": "error",
     "traceback": [
      "\u001b[0;31m---------------------------------------------------------------------------\u001b[0m",
      "\u001b[0;31mValueError\u001b[0m                                Traceback (most recent call last)",
      "Cell \u001b[0;32mIn[6], line 23\u001b[0m\n\u001b[1;32m     21\u001b[0m data \u001b[39m=\u001b[39m Data\u001b[39m.\u001b[39mfrom_specs(specs\u001b[39m.\u001b[39mmodel\u001b[39m.\u001b[39mtarget, target\u001b[39m.\u001b[39mbox)\n\u001b[1;32m     22\u001b[0m flow \u001b[39m=\u001b[39m build_flow(\u001b[39mnext\u001b[39m(chain), specs\u001b[39m.\u001b[39mmodel\u001b[39m.\u001b[39mauxiliary_shape, specs\u001b[39m.\u001b[39mmodel\u001b[39m.\u001b[39mflow)\n\u001b[0;32m---> 23\u001b[0m flow \u001b[39m=\u001b[39m cast(Pipe[DataWithAuxiliary, RigidWithAuxiliary], eqx\u001b[39m.\u001b[39;49mtree_deserialise_leaves(pretrained_model_path, flow))\n\u001b[1;32m     25\u001b[0m training_data_size \u001b[39m=\u001b[39m \u001b[39m100_000\u001b[39m \u001b[39mif\u001b[39;00m specs\u001b[39m.\u001b[39mmodel\u001b[39m.\u001b[39mbase\u001b[39m.\u001b[39mnum_samples \u001b[39mis\u001b[39;00m \u001b[39mNone\u001b[39;00m \u001b[39melse\u001b[39;00m specs\u001b[39m.\u001b[39mmodel\u001b[39m.\u001b[39mbase\u001b[39m.\u001b[39mnum_samples\n\u001b[1;32m     26\u001b[0m \u001b[39mprint\u001b[39m(\u001b[39mf\u001b[39m\u001b[39m'\u001b[39m\u001b[39mtot flow parameters: \u001b[39m\u001b[39m{\u001b[39;00mcount_params(flow)\u001b[39m:\u001b[39;00m\u001b[39m_\u001b[39m\u001b[39m}\u001b[39;00m\u001b[39m'\u001b[39m)\n",
      "File \u001b[0;32m~/miniconda3/envs/flox/lib/python3.10/site-packages/equinox/serialisation.py:319\u001b[0m, in \u001b[0;36mtree_deserialise_leaves\u001b[0;34m(path_or_file, like, filter_spec, is_leaf)\u001b[0m\n\u001b[1;32m    315\u001b[0m             \u001b[39mreturn\u001b[39;00m spec(f, y)\n\u001b[1;32m    317\u001b[0m         \u001b[39mreturn\u001b[39;00m _ordered_tree_map(__deserialise, x, is_leaf\u001b[39m=\u001b[39mis_leaf)\n\u001b[0;32m--> 319\u001b[0m     out \u001b[39m=\u001b[39m _ordered_tree_map(_deserialise, filter_spec, like)\n\u001b[1;32m    320\u001b[0m jtu\u001b[39m.\u001b[39mtree_map(_assert_same, out, like, is_leaf\u001b[39m=\u001b[39mis_leaf)\n\u001b[1;32m    321\u001b[0m \u001b[39mreturn\u001b[39;00m out\n",
      "File \u001b[0;32m~/miniconda3/envs/flox/lib/python3.10/site-packages/equinox/serialisation.py:26\u001b[0m, in \u001b[0;36m_ordered_tree_map\u001b[0;34m(f, tree, is_leaf, *rest)\u001b[0m\n\u001b[1;32m     24\u001b[0m leaves, treedef \u001b[39m=\u001b[39m jtu\u001b[39m.\u001b[39mtree_flatten(tree, is_leaf)\n\u001b[1;32m     25\u001b[0m all_leaves \u001b[39m=\u001b[39m [leaves] \u001b[39m+\u001b[39m [treedef\u001b[39m.\u001b[39mflatten_up_to(r) \u001b[39mfor\u001b[39;00m r \u001b[39min\u001b[39;00m rest]\n\u001b[0;32m---> 26\u001b[0m \u001b[39mreturn\u001b[39;00m treedef\u001b[39m.\u001b[39;49munflatten(f(\u001b[39m*\u001b[39;49mxs) \u001b[39mfor\u001b[39;49;00m xs \u001b[39min\u001b[39;49;00m \u001b[39mzip\u001b[39;49m(\u001b[39m*\u001b[39;49mall_leaves))\n",
      "File \u001b[0;32m~/miniconda3/envs/flox/lib/python3.10/site-packages/equinox/serialisation.py:26\u001b[0m, in \u001b[0;36m<genexpr>\u001b[0;34m(.0)\u001b[0m\n\u001b[1;32m     24\u001b[0m leaves, treedef \u001b[39m=\u001b[39m jtu\u001b[39m.\u001b[39mtree_flatten(tree, is_leaf)\n\u001b[1;32m     25\u001b[0m all_leaves \u001b[39m=\u001b[39m [leaves] \u001b[39m+\u001b[39m [treedef\u001b[39m.\u001b[39mflatten_up_to(r) \u001b[39mfor\u001b[39;00m r \u001b[39min\u001b[39;00m rest]\n\u001b[0;32m---> 26\u001b[0m \u001b[39mreturn\u001b[39;00m treedef\u001b[39m.\u001b[39munflatten(f(\u001b[39m*\u001b[39;49mxs) \u001b[39mfor\u001b[39;00m xs \u001b[39min\u001b[39;00m \u001b[39mzip\u001b[39m(\u001b[39m*\u001b[39mall_leaves))\n",
      "File \u001b[0;32m~/miniconda3/envs/flox/lib/python3.10/site-packages/equinox/serialisation.py:317\u001b[0m, in \u001b[0;36mtree_deserialise_leaves.<locals>._deserialise\u001b[0;34m(spec, x)\u001b[0m\n\u001b[1;32m    314\u001b[0m \u001b[39mdef\u001b[39;00m \u001b[39m__deserialise\u001b[39m(y):\n\u001b[1;32m    315\u001b[0m     \u001b[39mreturn\u001b[39;00m spec(f, y)\n\u001b[0;32m--> 317\u001b[0m \u001b[39mreturn\u001b[39;00m _ordered_tree_map(__deserialise, x, is_leaf\u001b[39m=\u001b[39;49mis_leaf)\n",
      "File \u001b[0;32m~/miniconda3/envs/flox/lib/python3.10/site-packages/equinox/serialisation.py:26\u001b[0m, in \u001b[0;36m_ordered_tree_map\u001b[0;34m(f, tree, is_leaf, *rest)\u001b[0m\n\u001b[1;32m     24\u001b[0m leaves, treedef \u001b[39m=\u001b[39m jtu\u001b[39m.\u001b[39mtree_flatten(tree, is_leaf)\n\u001b[1;32m     25\u001b[0m all_leaves \u001b[39m=\u001b[39m [leaves] \u001b[39m+\u001b[39m [treedef\u001b[39m.\u001b[39mflatten_up_to(r) \u001b[39mfor\u001b[39;00m r \u001b[39min\u001b[39;00m rest]\n\u001b[0;32m---> 26\u001b[0m \u001b[39mreturn\u001b[39;00m treedef\u001b[39m.\u001b[39;49munflatten(f(\u001b[39m*\u001b[39;49mxs) \u001b[39mfor\u001b[39;49;00m xs \u001b[39min\u001b[39;49;00m \u001b[39mzip\u001b[39;49m(\u001b[39m*\u001b[39;49mall_leaves))\n",
      "File \u001b[0;32m~/miniconda3/envs/flox/lib/python3.10/site-packages/equinox/serialisation.py:26\u001b[0m, in \u001b[0;36m<genexpr>\u001b[0;34m(.0)\u001b[0m\n\u001b[1;32m     24\u001b[0m leaves, treedef \u001b[39m=\u001b[39m jtu\u001b[39m.\u001b[39mtree_flatten(tree, is_leaf)\n\u001b[1;32m     25\u001b[0m all_leaves \u001b[39m=\u001b[39m [leaves] \u001b[39m+\u001b[39m [treedef\u001b[39m.\u001b[39mflatten_up_to(r) \u001b[39mfor\u001b[39;00m r \u001b[39min\u001b[39;00m rest]\n\u001b[0;32m---> 26\u001b[0m \u001b[39mreturn\u001b[39;00m treedef\u001b[39m.\u001b[39munflatten(f(\u001b[39m*\u001b[39;49mxs) \u001b[39mfor\u001b[39;00m xs \u001b[39min\u001b[39;00m \u001b[39mzip\u001b[39m(\u001b[39m*\u001b[39mall_leaves))\n",
      "File \u001b[0;32m~/miniconda3/envs/flox/lib/python3.10/site-packages/equinox/serialisation.py:315\u001b[0m, in \u001b[0;36mtree_deserialise_leaves.<locals>._deserialise.<locals>.__deserialise\u001b[0;34m(y)\u001b[0m\n\u001b[1;32m    314\u001b[0m \u001b[39mdef\u001b[39;00m \u001b[39m__deserialise\u001b[39m(y):\n\u001b[0;32m--> 315\u001b[0m     \u001b[39mreturn\u001b[39;00m spec(f, y)\n",
      "File \u001b[0;32m~/miniconda3/envs/flox/lib/python3.10/site-packages/equinox/serialisation.py:137\u001b[0m, in \u001b[0;36mdefault_deserialise_filter_spec\u001b[0;34m(f, x)\u001b[0m\n\u001b[1;32m    135\u001b[0m     \u001b[39mreturn\u001b[39;00m np\u001b[39m.\u001b[39mload(f)\n\u001b[1;32m    136\u001b[0m \u001b[39melif\u001b[39;00m \u001b[39misinstance\u001b[39m(x, (\u001b[39mbool\u001b[39m, \u001b[39mfloat\u001b[39m, \u001b[39mcomplex\u001b[39m, \u001b[39mint\u001b[39m)):\n\u001b[0;32m--> 137\u001b[0m     \u001b[39mreturn\u001b[39;00m np\u001b[39m.\u001b[39;49mload(f)\u001b[39m.\u001b[39;49mitem()\n\u001b[1;32m    138\u001b[0m \u001b[39melif\u001b[39;00m \u001b[39misinstance\u001b[39m(x, experimental\u001b[39m.\u001b[39mStateIndex):\n\u001b[1;32m    139\u001b[0m     \u001b[39m# Make a new StateIndex. If we happen to load some state then we don't\u001b[39;00m\n\u001b[1;32m    140\u001b[0m     \u001b[39m# want to affect the `like` as a side-effect.\u001b[39;00m\n\u001b[1;32m    141\u001b[0m     y \u001b[39m=\u001b[39m experimental\u001b[39m.\u001b[39mStateIndex(inference\u001b[39m=\u001b[39mx\u001b[39m.\u001b[39minference)\n",
      "\u001b[0;31mValueError\u001b[0m: can only convert an array of size 1 to a Python scalar"
     ]
    }
   ],
   "source": [
    "logdir_path = '/group/ag_cmb/scratch/jonkhler/so3-flow/water/'\n",
    "# logdir_path += 'tuna_N16_T100_noaux_2023-01-24_16:02:39'\n",
    "# logdir_path += 'antelope_N16_T50_noaux_2023-01-25_08:08:54'\n",
    "# logdir_path += 'dragonfly_N128_T100_noaux_2023-01-24_22:33:59'\n",
    "logdir_path += 'old/dragonfly_N128_T50_2023-01-22_17:44:19'\n",
    "\n",
    "stage = 0\n",
    "epoch = 9\n",
    "print(f'+++ epoch {epoch} +++')\n",
    "specs_path = f\"{logdir_path}/config.yaml\"\n",
    "pretrained_model_path = f'{logdir_path}/training_stage_{stage}/epoch_{epoch}/model.eqx'\n",
    "print(pretrained_model_path)\n",
    "\n",
    "specs = ExperimentSpecification.load_from_file(specs_path)\n",
    "specs = lenses.bind(specs).model.base.path.set(specs.model.base.path+'/eval_100')\n",
    "\n",
    "base = OpenMMDensity.from_specs(specs.model.auxiliary_shape, specs.model.base)\n",
    "target = OpenMMDensity.from_specs(specs.model.auxiliary_shape, specs.model.target)\n",
    "model = base.omm_model.model\n",
    "\n",
    "data = Data.from_specs(specs.model.target, target.box)\n",
    "flow = build_flow(next(chain), specs.model.auxiliary_shape, specs.model.flow)\n",
    "flow = cast(Pipe[DataWithAuxiliary, RigidWithAuxiliary], eqx.tree_deserialise_leaves(pretrained_model_path, flow))\n",
    "\n",
    "training_data_size = 100_000 if specs.model.base.num_samples is None else specs.model.base.num_samples\n",
    "print(f'tot flow parameters: {count_params(flow):_}')\n",
    "print(f'MD training datapoints = {training_data_size:_}')\n",
    "print(f'MD eval datapoints = {base.data.pos.shape[0]:_}')\n",
    "print(f'batchs per epoch = {specs.train[0].num_iters_per_epoch}')\n",
    "print(f'batch size = {specs.train[0].num_samples}')\n",
    "print(f'data fraction: {specs.train[0].num_epochs*specs.train[0].num_samples*specs.train[0].num_iters_per_epoch/training_data_size}')"
   ]
  },
  {
   "cell_type": "code",
   "execution_count": null,
   "metadata": {},
   "outputs": [],
   "source": [
    "reference_deltaF, reference_deltaF_std = None, None\n",
    "\n",
    "if specs.model.base.temperature == specs.model.target.temperature:\n",
    "    reference_deltaF, reference_deltaF_std = 0, 0\n",
    "elif specs.model.base.num_molecules == 16:\n",
    "    if specs.model.base.temperature == 250 and specs.model.target.temperature == 100:\n",
    "        label_txt = 'a)'\n",
    "        reference_deltaF, reference_deltaF_std = -666.09897990553, 0.0558899 # MBAR, 10_000 samples, 5 replicas\n",
    "    elif specs.model.base.temperature == 250 and specs.model.target.temperature == 50:\n",
    "        label_txt = 'b)'\n",
    "        reference_deltaF, reference_deltaF_std = -1818.2199636389134, 0.0632776 # MBAR, 10_000 samples, 10 replicas\n",
    "elif specs.model.base.num_molecules == 128:\n",
    "    if specs.model.base.temperature == 250 and specs.model.target.temperature == 100:\n",
    "        label_txt = 'c)'\n",
    "        reference_deltaF, reference_deltaF_std = -5314.324317927606, 0.0944014 # MBAR, 10_000 samples, 10 replicas\n",
    "    elif specs.model.base.temperature == 250 and specs.model.target.temperature == 50:\n",
    "        reference_deltaF, reference_deltaF_std = -14522.10556489954, 0.135 # MBAR, 10_000 samples, 20 replicas\n",
    "\n",
    "reference_deltaF, reference_deltaF_std"
   ]
  },
  {
   "cell_type": "code",
   "execution_count": null,
   "metadata": {},
   "outputs": [],
   "source": [
    "sc = model.n_waters\n",
    "test_subplots = False"
   ]
  },
  {
   "cell_type": "code",
   "execution_count": null,
   "metadata": {},
   "outputs": [],
   "source": [
    "import json\n",
    "\n",
    "with open(logdir_path+'/loss.json', \"r\") as f:\n",
    "    loss_info = np.array(json.load(f))[:,1:]"
   ]
  },
  {
   "cell_type": "code",
   "execution_count": null,
   "metadata": {},
   "outputs": [],
   "source": [
    "from mpl_toolkits.axes_grid1.inset_locator import inset_axes\n",
    "import matplotlib.image as mpimg\n",
    "\n",
    "def plot_loss():\n",
    "    plt.plot(loss_info[:,0], loss_info[:,1]/sc)\n",
    "    plt.axhline(reference_deltaF/sc, c='k', ls=':', label='$\\Delta F$')\n",
    "    # plt.xlim(0, loss_info[:,0].max()+loss_info[:,0].min())\n",
    "    plt.xlim(1e2, loss_info[:,0].max()+loss_info[:,0].min())\n",
    "    plt.xscale('log')\n",
    "    plt.ylabel('loss')\n",
    "    plt.xlabel('steps')\n",
    "    plt.legend(loc='lower left')\n",
    "\n",
    "    plt.text(-0.2, 1.0, label_txt, transform=plt.gca().transAxes, fontdict={'fontsize': 'large'})\n",
    "    \n",
    "    img = mpimg.imread(f'data/water/iceXI-N{model.n_waters}.png')\n",
    "    subax = inset_axes(plt.gca(), width=\"50%\", height=\"60%\", loc=1)\n",
    "    subax.imshow(img)\n",
    "    subax.axis('off')\n",
    "    \n",
    "if test_subplots:\n",
    "    plot_loss()\n",
    "    plt.show()"
   ]
  },
  {
   "cell_type": "code",
   "execution_count": 7,
   "metadata": {},
   "outputs": [
    {
     "name": "stdout",
     "output_type": "stream",
     "text": [
      "sample base\n"
     ]
    },
    {
     "name": "stderr",
     "output_type": "stream",
     "text": [
      "2023-01-30 09:54:23.193354: E external/org_tensorflow/tensorflow/compiler/xla/pjrt/pjrt_stream_executor_client.cc:2163] Execution of replica 0 failed: INTERNAL: Failed to execute XLA Runtime executable: run time error: custom call 'xla.gpu.custom_call' failed: CpuCallback error: KeyboardInterrupt: <EMPTY MESSAGE>\n",
      "\n",
      "At:\n",
      "  /home/mi/minvernizzi/miniconda3/envs/flox/lib/python3.10/site-packages/jax/_src/util.py(53): safe_zip\n",
      "  /home/mi/minvernizzi/miniconda3/envs/flox/lib/python3.10/site-packages/jax/interpreters/mlir.py(1770): _wrapped_callback\n",
      "  /home/mi/minvernizzi/miniconda3/envs/flox/lib/python3.10/site-packages/jax/interpreters/pxla.py(2136): __call__\n",
      "  /home/mi/minvernizzi/miniconda3/envs/flox/lib/python3.10/site-packages/jax/_src/profiler.py(314): wrapper\n",
      "  /home/mi/minvernizzi/miniconda3/envs/flox/lib/python3.10/site-packages/jax/_src/dispatch.py(120): apply_primitive\n",
      "  /home/mi/minvernizzi/miniconda3/envs/flox/lib/python3.10/site-packages/jax/core.py(712): process_primitive\n",
      "  /home/mi/minvernizzi/miniconda3/envs/flox/lib/python3.10/site-packages/jax/core.py(332): bind_with_trace\n",
      "  /home/mi/minvernizzi/miniconda3/envs/flox/lib/python3.10/site-packages/jax/core.py(2449): bind\n",
      "  /home/mi/minvernizzi/miniconda3/envs/flox/lib/python3.10/site-packages/jax/_src/lax/control_flow/loops.py(999): scan_bind\n",
      "  /home/mi/minvernizzi/miniconda3/envs/flox/lib/python3.10/site-packages/jax/_src/lax/control_flow/loops.py(275): scan\n",
      "  /home/mi/minvernizzi/miniconda3/envs/flox/lib/python3.10/site-packages/jax/_src/traceback_util.py(162): reraise_with_filtered_traceback\n",
      "  /srv/data/minvernizzi/notebook/water/rigid-flows/rigid_flows/utils.py(172): wrapper\n",
      "  /tmp/ipykernel_2960072/2313205390.py(20): <module>\n",
      "  /home/mi/minvernizzi/miniconda3/envs/flox/lib/python3.10/site-packages/IPython/core/interactiveshell.py(3442): run_code\n",
      "  /home/mi/minvernizzi/miniconda3/envs/flox/lib/python3.10/site-packages/IPython/core/interactiveshell.py(3382): run_ast_nodes\n",
      "  /home/mi/minvernizzi/miniconda3/envs/flox/lib/python3.10/site-packages/IPython/core/interactiveshell.py(3203): run_cell_async\n",
      "  /home/mi/minvernizzi/miniconda3/envs/flox/lib/python3.10/site-packages/IPython/core/async_helpers.py(129): _pseudo_sync_runner\n",
      "  /home/mi/minvernizzi/miniconda3/envs/flox/lib/python3.10/site-packages/IPython/core/interactiveshell.py(3000): _run_cell\n",
      "  /home/mi/minvernizzi/miniconda3/envs/flox/lib/python3.10/site-packages/IPython/core/interactiveshell.py(2945): run_cell\n",
      "  /home/mi/minvernizzi/miniconda3/envs/flox/lib/python3.10/site-packages/ipykernel/zmqshell.py(540): run_cell\n",
      "  /home/mi/minvernizzi/miniconda3/envs/flox/lib/python3.10/site-packages/ipykernel/ipkernel.py(417): do_execute\n",
      "  /home/mi/minvernizzi/miniconda3/envs/flox/lib/python3.10/site-packages/ipykernel/kernelbase.py(731): execute_request\n",
      "  /home/mi/minvernizzi/miniconda3/envs/flox/lib/python3.10/site-packages/ipykernel/kernelbase.py(408): dispatch_shell\n",
      "  /home/mi/minvernizzi/miniconda3/envs/flox/lib/python3.10/site-packages/ipykernel/kernelbase.py(501): process_one\n",
      "  /home/mi/minvernizzi/miniconda3/envs/flox/lib/python3.10/site-packages/ipykernel/kernelbase.py(512): dispatch_queue\n",
      "  /home/mi/minvernizzi/miniconda3/envs/flox/lib/python3.10/asyncio/events.py(80): _run\n",
      "  /home/mi/minvernizzi/miniconda3/envs/flox/lib/python3.10/asyncio/base_events.py(1899): _run_once\n",
      "  /home/mi/minvernizzi/miniconda3/envs/flox/lib/python3.10/asyncio/base_events.py(603): run_forever\n",
      "  /home/mi/minvernizzi/miniconda3/envs/flox/lib/python3.10/site-packages/tornado/platform/asyncio.py(215): start\n",
      "  /home/mi/minvernizzi/miniconda3/envs/flox/lib/python3.10/site-packages/ipykernel/kernelapp.py(724): start\n",
      "  /home/mi/minvernizzi/miniconda3/envs/flox/lib/python3.10/site-packages/traitlets/config/application.py(1041): launch_instance\n",
      "  /home/mi/minvernizzi/miniconda3/envs/flox/lib/python3.10/site-packages/ipykernel_launcher.py(17): <module>\n",
      "  /home/mi/minvernizzi/miniconda3/envs/flox/lib/python3.10/runpy.py(86): _run_code\n",
      "  /home/mi/minvernizzi/miniconda3/envs/flox/lib/python3.10/runpy.py(196): _run_module_as_main\n",
      ".\n"
     ]
    },
    {
     "ename": "XlaRuntimeError",
     "evalue": "INTERNAL: Failed to execute XLA Runtime executable: run time error: custom call 'xla.gpu.custom_call' failed: CpuCallback error: KeyboardInterrupt: <EMPTY MESSAGE>\n\nAt:\n  /home/mi/minvernizzi/miniconda3/envs/flox/lib/python3.10/site-packages/jax/_src/util.py(53): safe_zip\n  /home/mi/minvernizzi/miniconda3/envs/flox/lib/python3.10/site-packages/jax/interpreters/mlir.py(1770): _wrapped_callback\n  /home/mi/minvernizzi/miniconda3/envs/flox/lib/python3.10/site-packages/jax/interpreters/pxla.py(2136): __call__\n  /home/mi/minvernizzi/miniconda3/envs/flox/lib/python3.10/site-packages/jax/_src/profiler.py(314): wrapper\n  /home/mi/minvernizzi/miniconda3/envs/flox/lib/python3.10/site-packages/jax/_src/dispatch.py(120): apply_primitive\n  /home/mi/minvernizzi/miniconda3/envs/flox/lib/python3.10/site-packages/jax/core.py(712): process_primitive\n  /home/mi/minvernizzi/miniconda3/envs/flox/lib/python3.10/site-packages/jax/core.py(332): bind_with_trace\n  /home/mi/minvernizzi/miniconda3/envs/flox/lib/python3.10/site-packages/jax/core.py(2449): bind\n  /home/mi/minvernizzi/miniconda3/envs/flox/lib/python3.10/site-packages/jax/_src/lax/control_flow/loops.py(999): scan_bind\n  /home/mi/minvernizzi/miniconda3/envs/flox/lib/python3.10/site-packages/jax/_src/lax/control_flow/loops.py(275): scan\n  /home/mi/minvernizzi/miniconda3/envs/flox/lib/python3.10/site-packages/jax/_src/traceback_util.py(162): reraise_with_filtered_traceback\n  /srv/data/minvernizzi/notebook/water/rigid-flows/rigid_flows/utils.py(172): wrapper\n  /tmp/ipykernel_2960072/2313205390.py(20): <module>\n  /home/mi/minvernizzi/miniconda3/envs/flox/lib/python3.10/site-packages/IPython/core/interactiveshell.py(3442): run_code\n  /home/mi/minvernizzi/miniconda3/envs/flox/lib/python3.10/site-packages/IPython/core/interactiveshell.py(3382): run_ast_nodes\n  /home/mi/minvernizzi/miniconda3/envs/flox/lib/python3.10/site-packages/IPython/core/interactiveshell.py(3203): run_cell_async\n  /home/mi/minvernizzi/miniconda3/envs/flox/lib/python3.10/site-packages/IPython/core/async_helpers.py(129): _pseudo_sync_runner\n  /home/mi/minvernizzi/miniconda3/envs/flox/lib/python3.10/site-packages/IPython/core/interactiveshell.py(3000): _run_cell\n  /home/mi/minvernizzi/miniconda3/envs/flox/lib/python3.10/site-packages/IPython/core/interactiveshell.py(2945): run_cell\n  /home/mi/minvernizzi/miniconda3/envs/flox/lib/python3.10/site-packages/ipykernel/zmqshell.py(540): run_cell\n  /home/mi/minvernizzi/miniconda3/envs/flox/lib/python3.10/site-packages/ipykernel/ipkernel.py(417): do_execute\n  /home/mi/minvernizzi/miniconda3/envs/flox/lib/python3.10/site-packages/ipykernel/kernelbase.py(731): execute_request\n  /home/mi/minvernizzi/miniconda3/envs/flox/lib/python3.10/site-packages/ipykernel/kernelbase.py(408): dispatch_shell\n  /home/mi/minvernizzi/miniconda3/envs/flox/lib/python3.10/site-packages/ipykernel/kernelbase.py(501): process_one\n  /home/mi/minvernizzi/miniconda3/envs/flox/lib/python3.10/site-packages/ipykernel/kernelbase.py(512): dispatch_queue\n  /home/mi/minvernizzi/miniconda3/envs/flox/lib/python3.10/asyncio/events.py(80): _run\n  /home/mi/minvernizzi/miniconda3/envs/flox/lib/python3.10/asyncio/base_events.py(1899): _run_once\n  /home/mi/minvernizzi/miniconda3/envs/flox/lib/python3.10/asyncio/base_events.py(603): run_forever\n  /home/mi/minvernizzi/miniconda3/envs/flox/lib/python3.10/site-packages/tornado/platform/asyncio.py(215): start\n  /home/mi/minvernizzi/miniconda3/envs/flox/lib/python3.10/site-packages/ipykernel/kernelapp.py(724): start\n  /home/mi/minvernizzi/miniconda3/envs/flox/lib/python3.10/site-packages/traitlets/config/application.py(1041): launch_instance\n  /home/mi/minvernizzi/miniconda3/envs/flox/lib/python3.10/site-packages/ipykernel_launcher.py(17): <module>\n  /home/mi/minvernizzi/miniconda3/envs/flox/lib/python3.10/runpy.py(86): _run_code\n  /home/mi/minvernizzi/miniconda3/envs/flox/lib/python3.10/runpy.py(196): _run_module_as_main\n.",
     "output_type": "error",
     "traceback": [
      "\u001b[0;31m---------------------------------------------------------------------------\u001b[0m",
      "\u001b[0;31mFileNotFoundError\u001b[0m                         Traceback (most recent call last)",
      "Cell \u001b[0;32mIn[7], line 5\u001b[0m\n\u001b[1;32m      4\u001b[0m \u001b[39mtry\u001b[39;00m:\n\u001b[0;32m----> 5\u001b[0m     data \u001b[39m=\u001b[39m np\u001b[39m.\u001b[39;49mload(datafilename\u001b[39m+\u001b[39;49m\u001b[39m'\u001b[39;49m\u001b[39m.npz\u001b[39;49m\u001b[39m'\u001b[39;49m)\n\u001b[1;32m      6\u001b[0m     base_pos \u001b[39m=\u001b[39m data[\u001b[39m'\u001b[39m\u001b[39mbase_pos\u001b[39m\u001b[39m'\u001b[39m]\n",
      "File \u001b[0;32m~/miniconda3/envs/flox/lib/python3.10/site-packages/numpy/lib/npyio.py:405\u001b[0m, in \u001b[0;36mload\u001b[0;34m(file, mmap_mode, allow_pickle, fix_imports, encoding, max_header_size)\u001b[0m\n\u001b[1;32m    404\u001b[0m \u001b[39melse\u001b[39;00m:\n\u001b[0;32m--> 405\u001b[0m     fid \u001b[39m=\u001b[39m stack\u001b[39m.\u001b[39menter_context(\u001b[39mopen\u001b[39;49m(os_fspath(file), \u001b[39m\"\u001b[39;49m\u001b[39mrb\u001b[39;49m\u001b[39m\"\u001b[39;49m))\n\u001b[1;32m    406\u001b[0m     own_fid \u001b[39m=\u001b[39m \u001b[39mTrue\u001b[39;00m\n",
      "\u001b[0;31mFileNotFoundError\u001b[0m: [Errno 2] No such file or directory: '/group/ag_cmb/scratch/jonkhler/so3-flow/water/old/dragonfly_N128_T50_2023-01-22_17:44:19/training_stage_0/epoch_9/samples.npz.npz'",
      "\nDuring handling of the above exception, another exception occurred:\n",
      "\u001b[0;31mXlaRuntimeError\u001b[0m                           Traceback (most recent call last)",
      "Cell \u001b[0;32mIn[7], line 20\u001b[0m\n\u001b[1;32m     18\u001b[0m \u001b[39mprint\u001b[39m(\u001b[39m'\u001b[39m\u001b[39msample base\u001b[39m\u001b[39m'\u001b[39m)\n\u001b[1;32m     19\u001b[0m keys \u001b[39m=\u001b[39m jax\u001b[39m.\u001b[39mrandom\u001b[39m.\u001b[39msplit(\u001b[39mnext\u001b[39m(chain), num_samples)\n\u001b[0;32m---> 20\u001b[0m base_tr \u001b[39m=\u001b[39m scanned_vmap(base\u001b[39m.\u001b[39;49msample, batch_size)(keys)\n\u001b[1;32m     21\u001b[0m base_pos \u001b[39m=\u001b[39m np\u001b[39m.\u001b[39marray(base_tr\u001b[39m.\u001b[39mobj\u001b[39m.\u001b[39mpos\u001b[39m.\u001b[39mreshape(\u001b[39m-\u001b[39m\u001b[39m1\u001b[39m, model\u001b[39m.\u001b[39mn_atoms, \u001b[39m3\u001b[39m))\n\u001b[1;32m     22\u001b[0m base_ene \u001b[39m=\u001b[39m np\u001b[39m.\u001b[39marray(base_tr\u001b[39m.\u001b[39mldj \u001b[39m*\u001b[39m base\u001b[39m.\u001b[39momm_model\u001b[39m.\u001b[39mkbT)\n",
      "File \u001b[0;32m/srv/data/minvernizzi/notebook/water/rigid-flows/rigid_flows/utils.py:172\u001b[0m, in \u001b[0;36mscanned_vmap.<locals>.wrapper\u001b[0;34m(*args)\u001b[0m\n\u001b[1;32m    169\u001b[0m     \u001b[39mreturn\u001b[39;00m _, out\n\u001b[1;32m    171\u001b[0m \u001b[39m# result of scanning over batches\u001b[39;00m\n\u001b[0;32m--> 172\u001b[0m _, out_scanned \u001b[39m=\u001b[39m jax\u001b[39m.\u001b[39;49mlax\u001b[39m.\u001b[39;49mscan(scan_body, init\u001b[39m=\u001b[39;49m\u001b[39mNone\u001b[39;49;00m, xs\u001b[39m=\u001b[39;49mscanned_args)\n\u001b[1;32m    174\u001b[0m \u001b[39m# usual result\u001b[39;00m\n\u001b[1;32m    175\u001b[0m out_leftover \u001b[39m=\u001b[39m jax\u001b[39m.\u001b[39mvmap(\n\u001b[1;32m    176\u001b[0m     fn, in_axes\u001b[39m=\u001b[39min_axes_, out_axes\u001b[39m=\u001b[39mout_axes, \u001b[39m*\u001b[39mvmap_args, \u001b[39m*\u001b[39m\u001b[39m*\u001b[39mvmap_kwargs\n\u001b[1;32m    177\u001b[0m )(\u001b[39m*\u001b[39meqx\u001b[39m.\u001b[39mcombine(leftover_args, args))\n",
      "    \u001b[0;31m[... skipping hidden 8 frame]\u001b[0m\n",
      "File \u001b[0;32m~/miniconda3/envs/flox/lib/python3.10/site-packages/jax/interpreters/pxla.py:2136\u001b[0m, in \u001b[0;36mExecuteReplicated.__call__\u001b[0;34m(self, *args)\u001b[0m\n\u001b[1;32m   2134\u001b[0m   out_bufs \u001b[39m=\u001b[39m \u001b[39mself\u001b[39m\u001b[39m.\u001b[39m_call_with_tokens(input_bufs)\n\u001b[1;32m   2135\u001b[0m \u001b[39melse\u001b[39;00m:\n\u001b[0;32m-> 2136\u001b[0m   out_bufs \u001b[39m=\u001b[39m \u001b[39mself\u001b[39;49m\u001b[39m.\u001b[39;49mxla_executable\u001b[39m.\u001b[39;49mexecute_sharded_on_local_devices(\n\u001b[1;32m   2137\u001b[0m       input_bufs)\n\u001b[1;32m   2138\u001b[0m \u001b[39mif\u001b[39;00m dispatch\u001b[39m.\u001b[39mneeds_check_special():\n\u001b[1;32m   2139\u001b[0m   \u001b[39mfor\u001b[39;00m bufs \u001b[39min\u001b[39;00m out_bufs:\n",
      "\u001b[0;31mXlaRuntimeError\u001b[0m: INTERNAL: Failed to execute XLA Runtime executable: run time error: custom call 'xla.gpu.custom_call' failed: CpuCallback error: KeyboardInterrupt: <EMPTY MESSAGE>\n\nAt:\n  /home/mi/minvernizzi/miniconda3/envs/flox/lib/python3.10/site-packages/jax/_src/util.py(53): safe_zip\n  /home/mi/minvernizzi/miniconda3/envs/flox/lib/python3.10/site-packages/jax/interpreters/mlir.py(1770): _wrapped_callback\n  /home/mi/minvernizzi/miniconda3/envs/flox/lib/python3.10/site-packages/jax/interpreters/pxla.py(2136): __call__\n  /home/mi/minvernizzi/miniconda3/envs/flox/lib/python3.10/site-packages/jax/_src/profiler.py(314): wrapper\n  /home/mi/minvernizzi/miniconda3/envs/flox/lib/python3.10/site-packages/jax/_src/dispatch.py(120): apply_primitive\n  /home/mi/minvernizzi/miniconda3/envs/flox/lib/python3.10/site-packages/jax/core.py(712): process_primitive\n  /home/mi/minvernizzi/miniconda3/envs/flox/lib/python3.10/site-packages/jax/core.py(332): bind_with_trace\n  /home/mi/minvernizzi/miniconda3/envs/flox/lib/python3.10/site-packages/jax/core.py(2449): bind\n  /home/mi/minvernizzi/miniconda3/envs/flox/lib/python3.10/site-packages/jax/_src/lax/control_flow/loops.py(999): scan_bind\n  /home/mi/minvernizzi/miniconda3/envs/flox/lib/python3.10/site-packages/jax/_src/lax/control_flow/loops.py(275): scan\n  /home/mi/minvernizzi/miniconda3/envs/flox/lib/python3.10/site-packages/jax/_src/traceback_util.py(162): reraise_with_filtered_traceback\n  /srv/data/minvernizzi/notebook/water/rigid-flows/rigid_flows/utils.py(172): wrapper\n  /tmp/ipykernel_2960072/2313205390.py(20): <module>\n  /home/mi/minvernizzi/miniconda3/envs/flox/lib/python3.10/site-packages/IPython/core/interactiveshell.py(3442): run_code\n  /home/mi/minvernizzi/miniconda3/envs/flox/lib/python3.10/site-packages/IPython/core/interactiveshell.py(3382): run_ast_nodes\n  /home/mi/minvernizzi/miniconda3/envs/flox/lib/python3.10/site-packages/IPython/core/interactiveshell.py(3203): run_cell_async\n  /home/mi/minvernizzi/miniconda3/envs/flox/lib/python3.10/site-packages/IPython/core/async_helpers.py(129): _pseudo_sync_runner\n  /home/mi/minvernizzi/miniconda3/envs/flox/lib/python3.10/site-packages/IPython/core/interactiveshell.py(3000): _run_cell\n  /home/mi/minvernizzi/miniconda3/envs/flox/lib/python3.10/site-packages/IPython/core/interactiveshell.py(2945): run_cell\n  /home/mi/minvernizzi/miniconda3/envs/flox/lib/python3.10/site-packages/ipykernel/zmqshell.py(540): run_cell\n  /home/mi/minvernizzi/miniconda3/envs/flox/lib/python3.10/site-packages/ipykernel/ipkernel.py(417): do_execute\n  /home/mi/minvernizzi/miniconda3/envs/flox/lib/python3.10/site-packages/ipykernel/kernelbase.py(731): execute_request\n  /home/mi/minvernizzi/miniconda3/envs/flox/lib/python3.10/site-packages/ipykernel/kernelbase.py(408): dispatch_shell\n  /home/mi/minvernizzi/miniconda3/envs/flox/lib/python3.10/site-packages/ipykernel/kernelbase.py(501): process_one\n  /home/mi/minvernizzi/miniconda3/envs/flox/lib/python3.10/site-packages/ipykernel/kernelbase.py(512): dispatch_queue\n  /home/mi/minvernizzi/miniconda3/envs/flox/lib/python3.10/asyncio/events.py(80): _run\n  /home/mi/minvernizzi/miniconda3/envs/flox/lib/python3.10/asyncio/base_events.py(1899): _run_once\n  /home/mi/minvernizzi/miniconda3/envs/flox/lib/python3.10/asyncio/base_events.py(603): run_forever\n  /home/mi/minvernizzi/miniconda3/envs/flox/lib/python3.10/site-packages/tornado/platform/asyncio.py(215): start\n  /home/mi/minvernizzi/miniconda3/envs/flox/lib/python3.10/site-packages/ipykernel/kernelapp.py(724): start\n  /home/mi/minvernizzi/miniconda3/envs/flox/lib/python3.10/site-packages/traitlets/config/application.py(1041): launch_instance\n  /home/mi/minvernizzi/miniconda3/envs/flox/lib/python3.10/site-packages/ipykernel_launcher.py(17): <module>\n  /home/mi/minvernizzi/miniconda3/envs/flox/lib/python3.10/runpy.py(86): _run_code\n  /home/mi/minvernizzi/miniconda3/envs/flox/lib/python3.10/runpy.py(196): _run_module_as_main\n."
     ]
    }
   ],
   "source": [
    "datafilename = logdir_path+'/fig3-data'\n",
    "\n",
    "try:\n",
    "    data = np.load(datafilename+'.npz')\n",
    "    base_pos = data['base_pos']\n",
    "    base_ene = data['base_ene']\n",
    "    mapped_pos = data['mapped_pos']\n",
    "    mapped_ene = data['mapped_ene']\n",
    "    target_pos = data['target_pos']\n",
    "    target_ene = data['target_ene']\n",
    "    weights = data['weights']\n",
    "    \n",
    "except FileNotFoundError:\n",
    "    num_samples = 100_000\n",
    "    batch_size = 128\n",
    "\n",
    "    print('sample base')\n",
    "    keys = jax.random.split(next(chain), num_samples)\n",
    "    base_tr = scanned_vmap(base.sample, batch_size)(keys)\n",
    "    base_pos = np.array(base_tr.obj.pos.reshape(-1, model.n_atoms, 3))\n",
    "    base_ene = np.array(base_tr.ldj * base.omm_model.kbT)\n",
    "\n",
    "    print('map base')\n",
    "    mapped_tr = scanned_vmap(flow.forward, batch_size)(base_tr.obj)\n",
    "    mapped_pos = np.array(mapped_tr.obj.pos.reshape(-1, model.n_atoms, 3))\n",
    "\n",
    "    print('compute weights')\n",
    "    ## NB: base_tr.ldj = jax.vmap(base.potential)(base_tr.obj)\n",
    "    mapped_ene_tg = scanned_vmap(target.potential, batch_size)(mapped_tr.obj)\n",
    "    mapped_ene = np.array(mapped_ene_tg * target.omm_model.kbT)\n",
    "\n",
    "    logw = base_tr.ldj + mapped_tr.ldj - mapped_ene_tg\n",
    "    weights = np.array(jnp.exp(logw-jax.scipy.special.logsumexp(logw)))\n",
    "\n",
    "    print('sample target')\n",
    "    keys = jax.random.split(next(chain), num_samples)\n",
    "    target_tr = scanned_vmap(target.sample, batch_size)(keys)\n",
    "    target_pos = np.array(target_tr.obj.pos.reshape(-1, model.n_atoms, 3))\n",
    "    target_ene = np.array(target_tr.ldj * target.omm_model.kbT)\n",
    "\n",
    "    def plot_2Dview(data_tr: DataWithAuxiliary, title: str, toPBC: bool = True, skip: int = 100):\n",
    "        model.plot_2Dview(data_tr.obj.pos.reshape(-1, model.n_atoms, 3)[::skip], toPBC=toPBC, title=title)\n",
    "\n",
    "    plot_2Dview(base_tr, title='base')\n",
    "    plot_2Dview(mapped_tr, title='mapped')\n",
    "    plot_2Dview(target_tr, title='target')\n",
    "\n",
    "    plt.hist(jnp.exp(logw - logw.max()), bins=100)\n",
    "    plt.yscale('log')\n",
    "    plt.show()\n",
    "    print(f'ESS = {ess(logw):g}  ->  {ess(logw)/len(logw):.2%}')\n",
    "\n",
    "    ## TFEP\n",
    "    deltaF = (jnp.log(len(logw)) - jax.scipy.special.logsumexp(logw)).item()\n",
    "    print(f'Estimated deltaF from LFEP = {deltaF/sc:g}')\n",
    "    if reference_deltaF is not None:\n",
    "        print(f'          Reference deltaF = {reference_deltaF/sc:g}')"
   ]
  },
  {
   "cell_type": "code",
   "execution_count": null,
   "metadata": {},
   "outputs": [],
   "source": [
    "# bins = np.linspace(target_ene.min(), np.percentile(base_ene, 99.9), 200)/sc\n",
    "# if model.n_waters == 16:\n",
    "#     bins = np.linspace(-20.5, -17, 200)*model.n_waters*3/sc\n",
    "# if model.n_waters == 128:\n",
    "#     bins = np.linspace(-20, -17.75, 200)*model.n_waters*3/sc\n",
    "bins = np.linspace(-20.5, -17.5, 100)*model.n_waters*3/sc\n",
    "hist_kwargs = {\"bins\": bins, \"density\": True, \"alpha\": 0.5}\n",
    "\n",
    "def plot_energy():\n",
    "    plt.hist(base_ene/sc, **hist_kwargs, label='base')\n",
    "    plt.hist(mapped_ene/sc, **hist_kwargs, label='mapped')\n",
    "    plt.hist(target_ene/sc, **hist_kwargs, label='target')\n",
    "    if model.n_waters == 128: #ESS is small, histogram resolution must be smaller\n",
    "        mybins = 75\n",
    "    else:\n",
    "        mybins = hist_kwargs['bins']\n",
    "    plt.hist(mapped_ene/sc, weights=weights, label='reweighted', bins=mybins, density=True, histtype='step')\n",
    "    plt.xlabel('potential energy / N [kJ/mol]')\n",
    "    # plt.xticks(np.arange(-21,-16)*model.n_waters*3/sc)\n",
    "    plt.xlim(bins[0], bins[-1])\n",
    "    plt.ylabel('density')\n",
    "    plt.legend()\n",
    "\n",
    "if test_subplots:\n",
    "    plot_energy()\n",
    "    plt.show()"
   ]
  },
  {
   "cell_type": "code",
   "execution_count": null,
   "metadata": {},
   "outputs": [],
   "source": [
    "import mdtraj as md\n",
    "\n",
    "n_bins = 200\n",
    "# r_range = [0.2, min(np.round(np.diag(model.box).min() * 10) / 10, 1)]\n",
    "r_range = [0.2, 0.7]\n",
    "ij = model.mdtraj_topology.select_pairs(\"name == O\", \"name == O\")\n",
    "\n",
    "base_rdf = md.compute_rdf(model.get_mdtraj(base_pos), ij, r_range=r_range, n_bins=n_bins)\n",
    "mapped_rdf = md.compute_rdf(model.get_mdtraj(mapped_pos), ij, r_range=r_range, n_bins=n_bins)\n",
    "target_rdf = md.compute_rdf(model.get_mdtraj(target_pos), ij, r_range=r_range, n_bins=n_bins)"
   ]
  },
  {
   "cell_type": "code",
   "execution_count": null,
   "metadata": {},
   "outputs": [],
   "source": [
    "#TODO add reweighted rdf\n",
    "\n",
    "def plot_rdf():\n",
    "    plt.plot(*base_rdf, label='base', lw=2)\n",
    "    plt.plot(*mapped_rdf, label='mapped', lw=4, ls='--')\n",
    "    plt.plot(*target_rdf, label='target', lw=2)\n",
    "    # plt.axvline(model.box.max()/2, c='k', ls=':', alpha=.5)\n",
    "    plt.ylabel(\"g(r)\")\n",
    "    plt.xlabel(\"r [nm]\")\n",
    "    plt.xlim(r_range)\n",
    "    plt.yticks(np.arange(0, 14, 2))\n",
    "    plt.ylim(None, 13)\n",
    "    plt.ylabel(\"oxygen g(r)\")\n",
    "    # plt.gca().yaxis.set_major_formatter(FormatStrFormatter('%.0f'))\n",
    "    plt.legend()\n",
    "\n",
    "if test_subplots:\n",
    "    plot_rdf()\n",
    "    plt.show()"
   ]
  },
  {
   "attachments": {},
   "cell_type": "markdown",
   "metadata": {},
   "source": [
    "## create the figure"
   ]
  },
  {
   "cell_type": "code",
   "execution_count": null,
   "metadata": {},
   "outputs": [],
   "source": [
    "plt.figure(figsize=(15, 3))\n",
    "\n",
    "plt.subplot(1, 3, 1)\n",
    "plot_loss()\n",
    "\n",
    "plt.subplot(1, 3, 2)\n",
    "plot_energy()\n",
    "\n",
    "plt.subplot(1, 3, 3)\n",
    "plot_rdf()\n",
    "ax = plt.gca().twinx()\n",
    "ax.set_ylabel(f'N={model.n_waters}, T={specs.model.target.temperature} K', fontsize='x-large')\n",
    "ax.set_yticks([])\n",
    "\n",
    "filename = f'fig3-N{model.n_waters}_T{specs.model.target.temperature}.pdf'\n",
    "plt.savefig(filename, bbox_inches='tight')\n",
    "plt.show()"
   ]
  },
  {
   "cell_type": "code",
   "execution_count": null,
   "metadata": {},
   "outputs": [],
   "source": [
    "## store all useful data\n",
    "!bck.meup.sh {logdir_path}/{filename}\n",
    "!cp {filename} {logdir_path}/{filename}\n",
    "\n",
    "np.savez(\n",
    "    datafilename, \n",
    "    base_ene=base_ene, \n",
    "    mapped_ene=mapped_ene, \n",
    "    target_ene=target_ene, \n",
    "    weights=weights, \n",
    "    base_pos=base_pos, \n",
    "    mapped_pos=mapped_pos, \n",
    "    target_pos=target_pos\n",
    ")"
   ]
  },
  {
   "cell_type": "code",
   "execution_count": 13,
   "metadata": {},
   "outputs": [
    {
     "ename": "NameError",
     "evalue": "name 'base_pos' is not defined",
     "output_type": "error",
     "traceback": [
      "\u001b[0;31m---------------------------------------------------------------------------\u001b[0m",
      "\u001b[0;31mNameError\u001b[0m                                 Traceback (most recent call last)",
      "Cell \u001b[0;32mIn[13], line 52\u001b[0m\n\u001b[1;32m     49\u001b[0m         plt\u001b[39m.\u001b[39mgca()\u001b[39m.\u001b[39mset_aspect(\u001b[39m1\u001b[39m)\n\u001b[1;32m     50\u001b[0m     \u001b[39m# plt.show()\u001b[39;00m\n\u001b[0;32m---> 52\u001b[0m plot_proj(base_pos[::\u001b[39m1000\u001b[39m], \u001b[39m'\u001b[39m\u001b[39mbase\u001b[39m\u001b[39m'\u001b[39m)\n\u001b[1;32m     53\u001b[0m plt\u001b[39m.\u001b[39msavefig(\u001b[39m'\u001b[39m\u001b[39mice_config-base.pdf\u001b[39m\u001b[39m'\u001b[39m, bbox_inches\u001b[39m=\u001b[39m\u001b[39m'\u001b[39m\u001b[39mtight\u001b[39m\u001b[39m'\u001b[39m)\n\u001b[1;32m     54\u001b[0m plt\u001b[39m.\u001b[39mshow()\n",
      "\u001b[0;31mNameError\u001b[0m: name 'base_pos' is not defined"
     ]
    }
   ],
   "source": [
    "def plot_proj(pos, title='', marker='.', alpha=0.2, av_box=model.box):\n",
    "    mypos = pos % np.diagonal(av_box)\n",
    "    plt.figure(figsize=(12, 3))\n",
    "    plt.suptitle(title)\n",
    "    for i in range(3):\n",
    "        ii = (i + 1) % 3\n",
    "        iii = (i + 2) % 3\n",
    "        plt.subplot(1, 3, 1 + i)\n",
    "\n",
    "        # draw particles\n",
    "        plt.scatter(\n",
    "            mypos[..., 1 :: model.n_sites, i],\n",
    "            mypos[..., 1 :: model.n_sites, ii],\n",
    "            marker=marker,\n",
    "            alpha=alpha,\n",
    "            c=\"gray\",\n",
    "            rasterized=True\n",
    "        )\n",
    "        plt.scatter(\n",
    "            mypos[..., 2 :: model.n_sites, i],\n",
    "            mypos[..., 2 :: model.n_sites, ii],\n",
    "            marker=marker,\n",
    "            alpha=alpha,\n",
    "            c=\"gray\",\n",
    "            rasterized=True\n",
    "        )\n",
    "        plt.scatter(\n",
    "            mypos[..., :: model.n_sites, i],\n",
    "            mypos[..., :: model.n_sites, ii],\n",
    "            marker=marker,\n",
    "            alpha=alpha,\n",
    "            c=\"r\",\n",
    "            rasterized=True\n",
    "        )\n",
    "\n",
    "        def get_label(j):\n",
    "            match j:\n",
    "                case 0: \n",
    "                    return 'x'\n",
    "                case 1:\n",
    "                    return 'y'\n",
    "                case 2:\n",
    "                    return 'z'\n",
    "\n",
    "        plt.xlabel(f\"{get_label(i)} [nm]\")\n",
    "        plt.ylabel(f\"{get_label(ii)} [nm]\")\n",
    "        plt.xlim(0, av_box[i,i])\n",
    "        plt.ylim(0, av_box[ii,ii])\n",
    "        plt.gca().set_aspect(1)\n",
    "    # plt.show()\n",
    "\n",
    "plot_proj(base_pos[::1000], 'base')\n",
    "plt.savefig('ice_config-base.pdf', bbox_inches='tight')\n",
    "plt.show()\n",
    "plot_proj(mapped_pos[::1000], 'mapped')\n",
    "plt.savefig('ice_config-mapped.pdf', bbox_inches='tight')\n",
    "plt.show()\n",
    "plot_proj(target_pos[::1000], 'target')\n",
    "plt.savefig('ice_config-target.pdf', bbox_inches='tight')\n",
    "plt.show()"
   ]
  },
  {
   "cell_type": "code",
   "execution_count": null,
   "metadata": {},
   "outputs": [],
   "source": []
  }
 ],
 "metadata": {
  "kernelspec": {
   "display_name": "Python 3.10.8 ('flox')",
   "language": "python",
   "name": "python3"
  },
  "language_info": {
   "codemirror_mode": {
    "name": "ipython",
    "version": 3
   },
   "file_extension": ".py",
   "mimetype": "text/x-python",
   "name": "python",
   "nbconvert_exporter": "python",
   "pygments_lexer": "ipython3",
   "version": "3.10.8"
  },
  "orig_nbformat": 4,
  "vscode": {
   "interpreter": {
    "hash": "52d865f241f5cf4532d2b38dc6618aea3fdd872b067fcdc4aedd37cb5878aec8"
   }
  }
 },
 "nbformat": 4,
 "nbformat_minor": 2
}
