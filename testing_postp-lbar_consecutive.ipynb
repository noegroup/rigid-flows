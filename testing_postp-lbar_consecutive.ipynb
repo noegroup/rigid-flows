{
 "cells": [
  {
   "attachments": {},
   "cell_type": "markdown",
   "metadata": {},
   "source": [
    "# Posprocessing a run"
   ]
  },
  {
   "cell_type": "code",
   "execution_count": 1,
   "metadata": {},
   "outputs": [],
   "source": [
    "%load_ext autoreload\n",
    "%autoreload 2"
   ]
  },
  {
   "cell_type": "code",
   "execution_count": 2,
   "metadata": {},
   "outputs": [
    {
     "name": "stdout",
     "output_type": "stream",
     "text": [
      "env: XLA_PYTHON_CLIENT_MEM_FRACTION=.6\n"
     ]
    }
   ],
   "source": [
    "%env XLA_PYTHON_CLIENT_MEM_FRACTION=.6"
   ]
  },
  {
   "cell_type": "code",
   "execution_count": 3,
   "metadata": {},
   "outputs": [
    {
     "name": "stderr",
     "output_type": "stream",
     "text": [
      "2023-01-27 09:30:02.007688: W tensorflow/compiler/xla/stream_executor/platform/default/dso_loader.cc:64] Could not load dynamic library 'libnvinfer.so.7'; dlerror: libnvinfer.so.7: cannot open shared object file: No such file or directory; LD_LIBRARY_PATH: :/home/mi/minvernizzi/.local/lib\n",
      "2023-01-27 09:30:02.007891: W tensorflow/compiler/xla/stream_executor/platform/default/dso_loader.cc:64] Could not load dynamic library 'libnvinfer_plugin.so.7'; dlerror: libnvinfer_plugin.so.7: cannot open shared object file: No such file or directory; LD_LIBRARY_PATH: :/home/mi/minvernizzi/.local/lib\n",
      "2023-01-27 09:30:02.007906: W tensorflow/compiler/tf2tensorrt/utils/py_utils.cc:38] TF-TRT Warning: Cannot dlopen some TensorRT libraries. If you would like to use Nvidia GPU with TensorRT, please make sure the missing libraries mentioned above are installed properly.\n"
     ]
    },
    {
     "data": {
      "application/vnd.jupyter.widget-view+json": {
       "model_id": "1be60213fbeb4b91a8ad56e4cef00e54",
       "version_major": 2,
       "version_minor": 0
      },
      "text/plain": []
     },
     "metadata": {},
     "output_type": "display_data"
    }
   ],
   "source": [
    "import lenses\n",
    "import jax\n",
    "import numpy as np\n",
    "from jax import numpy as jnp\n",
    "from typing import cast\n",
    "import matplotlib.pyplot as plt\n",
    "from tqdm import trange\n",
    "from IPython.display import clear_output\n",
    "\n",
    "from flox.util import key_chain\n",
    "from flox.flow import Pipe, Inverted, bind\n",
    "from functools import partial\n",
    "import equinox as eqx\n",
    "\n",
    "from rigid_flows.flow import build_flow, RigidWithAuxiliary\n",
    "from rigid_flows.data import Data, DataWithAuxiliary\n",
    "from rigid_flows.density import OpenMMDensity\n",
    "from rigid_flows.specs import FlowSpecification, CouplingSpecification, ExperimentSpecification\n",
    "# from rigid_flows.density import PositionPrior, RotationPrior\n",
    "from rigid_flows.utils import jit_and_cleanup_cache, scanned_vmap\n",
    "\n",
    "chain = key_chain(42)\n",
    "\n",
    "def count_params(model):\n",
    "    return jax.tree_util.tree_reduce(\n",
    "        lambda s, n: s + n.size if eqx.is_array(n) else s, model, jnp.zeros((), dtype=jnp.int32)).item()"
   ]
  },
  {
   "cell_type": "code",
   "execution_count": 4,
   "metadata": {},
   "outputs": [
    {
     "name": "stdout",
     "output_type": "stream",
     "text": [
      "+++ epoch 9 +++\n",
      "jonas_logdir/tuna_N16_T100_noaux_2023-01-24_16:02:39/training_stage_0/epoch_9/model.eqx\n",
      "tot flow parameters: 319_568\n",
      "MD training datapoints = 100_000\n",
      "MD eval datapoints = 100_000\n",
      "batchs per epoch = 500\n",
      "batch size = 32\n",
      "data fraction: 1.6\n"
     ]
    }
   ],
   "source": [
    "logdir_path = 'jonas_logdir/'\n",
    "\n",
    "# logdir_path += 'antelope_N16_T100_noaux_2023-01-24_16:17:52' #ESS 1.98%\n",
    "# logdir_path += 'antelope_N16_T100_noaux_2023-01-24_17:32:54' #ESS 18.66% (very asimmetric ESS)\n",
    "# logdir_path += 'antelope_N16_T100_noaux_2023-01-24_16:02:25' #ESS 17.66% (very asimmetric ESS)\n",
    "logdir_path += 'tuna_N16_T100_noaux_2023-01-24_16:02:39' #ESS 22.12% internally coherent ------------------\n",
    "\n",
    "# logdir_path += 'dragonfly_N16_T50_noaux_2023-01-24_17:36:44' #ESS 3.14% internally coherent deltaF estimates \n",
    "# logdir_path += 'antelope_N16_T50_noaux_2023-01-25_08:08:54' #ESS 4.80% ------------------\n",
    "\n",
    "# logdir_path += 'dragonfly_N128_T100_noaux_2023-01-25_05:35:15' #ESS 0.09% not bad deltaF estimates\n",
    "# logdir_path += 'dragonfly_N128_T100_noaux_2023-01-24_22:33:59' #ESS 0.25% ------------------\n",
    "# logdir_path += 'tuna_N128_T100_noaux_2023-01-25_05:30:12' #ESS 0.09%\n",
    "\n",
    "stage = 0\n",
    "epoch = 9\n",
    "print(f'+++ epoch {epoch} +++')\n",
    "specs_path = f\"{logdir_path}/config.yaml\"\n",
    "pretrained_model_path = f'{logdir_path}/training_stage_{stage}/epoch_{epoch}/model.eqx'\n",
    "print(pretrained_model_path)\n",
    "\n",
    "\n",
    "specs = ExperimentSpecification.load_from_file(specs_path)\n",
    "specs = lenses.bind(specs).model.base.path.set(specs.model.base.path+'/eval_100')\n",
    "\n",
    "base = OpenMMDensity.from_specs(specs.model.auxiliary_shape, specs.model.base)\n",
    "target = OpenMMDensity.from_specs(specs.model.auxiliary_shape, specs.model.target)\n",
    "model = base.omm_model.model\n",
    "\n",
    "data = Data.from_specs(specs.model.target, target.box)\n",
    "flow = build_flow(next(chain), specs.model.auxiliary_shape, specs.model.flow)\n",
    "flow = cast(Pipe[DataWithAuxiliary, RigidWithAuxiliary], eqx.tree_deserialise_leaves(pretrained_model_path, flow))\n",
    "\n",
    "training_data_size = 100_000 if specs.model.base.num_samples is None else specs.model.base.num_samples\n",
    "print(f'tot flow parameters: {count_params(flow):_}')\n",
    "print(f'MD training datapoints = {training_data_size:_}')\n",
    "print(f'MD eval datapoints = {base.data.pos.shape[0]:_}')\n",
    "print(f'batchs per epoch = {specs.train[0].num_iters_per_epoch}')\n",
    "print(f'batch size = {specs.train[0].num_samples}')\n",
    "print(f'data fraction: {specs.train[0].num_epochs*specs.train[0].num_samples*specs.train[0].num_iters_per_epoch/training_data_size}')"
   ]
  },
  {
   "cell_type": "code",
   "execution_count": 5,
   "metadata": {},
   "outputs": [
    {
     "data": {
      "text/plain": [
       "(-666.09897990553, 0.0558899)"
      ]
     },
     "execution_count": 5,
     "metadata": {},
     "output_type": "execute_result"
    }
   ],
   "source": [
    "reference_deltaF, reference_deltaF_std = None, None\n",
    "\n",
    "if specs.model.base.temperature == specs.model.target.temperature:\n",
    "    reference_deltaF, reference_deltaF_std = 0, 0\n",
    "elif specs.model.base.num_molecules == 16:\n",
    "    if specs.model.base.temperature == 250 and specs.model.target.temperature == 100:\n",
    "        reference_deltaF, reference_deltaF_std = -666.09897990553, 0.0558899 # MBAR, 10_000 samples, 5 replicas\n",
    "    elif specs.model.base.temperature == 250 and specs.model.target.temperature == 50:\n",
    "        reference_deltaF, reference_deltaF_std = -1818.2199636389134, 0.0632776 # MBAR, 10_000 samples, 10 replicas\n",
    "elif specs.model.base.num_molecules == 128:\n",
    "    if specs.model.base.temperature == 250 and specs.model.target.temperature == 100:\n",
    "        reference_deltaF, reference_deltaF_std = -5314.324317927606, 0.0944014 # MBAR, 10_000 samples, 10 replicas\n",
    "    elif specs.model.base.temperature == 250 and specs.model.target.temperature == 50:\n",
    "        reference_deltaF, reference_deltaF_std = -14522.10556489954, 0.135 # MBAR, 10_000 samples, 20 replicas\n",
    "\n",
    "reference_deltaF, reference_deltaF_std"
   ]
  },
  {
   "cell_type": "code",
   "execution_count": 6,
   "metadata": {},
   "outputs": [],
   "source": [
    "def ess(logw):\n",
    "    return jnp.exp(2*jax.scipy.special.logsumexp(logw)-jax.scipy.special.logsumexp(2*logw))\n",
    "\n",
    "def plot_2Dview(data_tr: DataWithAuxiliary, title: str, toPBC: bool = True, skip: int = 10):\n",
    "    model.plot_2Dview(data_tr.obj.pos.reshape(-1, model.n_atoms, 3), toPBC=toPBC, title=title)\n",
    "\n",
    "hist_kwargs = {\"bins\": \"auto\", \"density\": True, \"alpha\": 0.5}\n",
    "\n",
    "def plot_results(deltaFs, reference_deltaF=reference_deltaF, reference_deltaF_std=reference_deltaF_std, LFEPdeltaFs=None, ESSs=None, num_samples=10_000, std_deltaFs=None):\n",
    "    if ESSs is not None:\n",
    "        plt.plot(ESSs[:,0]/num_samples*100, '-o', label='forward')\n",
    "        plt.plot(ESSs[:,1]/num_samples*100, '-o', label='inverse')\n",
    "        plt.axhline(100/num_samples, c='k', ls=':', label='ESS=1')\n",
    "        plt.ylabel('ESS %')\n",
    "        plt.legend()\n",
    "        plt.show()\n",
    "\n",
    "\n",
    "    xlim = [0, len(deltaFs)]\n",
    "    n = 2 #how many sigmas for errorbar\n",
    "\n",
    "    if LFEPdeltaFs is not None:\n",
    "        plt.plot(LFEPdeltaFs[:,1], '.', c='blue', label='LFEP_target')\n",
    "        x = 2 * [LFEPdeltaFs[:,1].mean()]\n",
    "        plt.fill_between(xlim, x-n*LFEPdeltaFs[:,1].std(), x+n*LFEPdeltaFs[:,1].std(), color='blue', alpha=0.3)\n",
    "        plt.axhline(LFEPdeltaFs[:,1].mean(), c='blue')\n",
    "\n",
    "        plt.plot(LFEPdeltaFs[:,0], '.', c='green', label='LFEP_base')\n",
    "        x = 2 * [LFEPdeltaFs[:,0].mean()]\n",
    "        plt.fill_between(xlim, x-n*LFEPdeltaFs[:,0].std(), x+n*LFEPdeltaFs[:,0].std(), color='green', alpha=0.3)\n",
    "        plt.axhline(LFEPdeltaFs[:,0].mean(), c='green')\n",
    "\n",
    "    plt.plot(deltaFs, '.', c='orange', label='LBAR')\n",
    "    x = 2 * [deltaFs.mean()]\n",
    "    plt.fill_between(xlim, x-n*deltaFs.std(), x+n*deltaFs.std(), color='orange', alpha=0.3)\n",
    "    plt.axhline(deltaFs.mean(), c='orange')\n",
    "\n",
    "    if reference_deltaF is not None:\n",
    "        plt.axhline(reference_deltaF, c='k', ls=\":\", label='MBAR reference')\n",
    "        x = np.array(2 * [reference_deltaF])\n",
    "        plt.fill_between(xlim, x-n*reference_deltaF_std, x+n*reference_deltaF_std, color='k', alpha=0.1)\n",
    "    plt.xlim(xlim)\n",
    "    plt.legend()\n",
    "    plt.show()"
   ]
  },
  {
   "cell_type": "code",
   "execution_count": 7,
   "metadata": {},
   "outputs": [],
   "source": [
    "sc = model.n_waters\n",
    "n_sigmas = 2"
   ]
  },
  {
   "cell_type": "code",
   "execution_count": 8,
   "metadata": {},
   "outputs": [
    {
     "data": {
      "image/png": "[encoded data removed]",
      "text/plain": [
       "<Figure size 640x480 with 1 Axes>"
      ]
     },
     "metadata": {},
     "output_type": "display_data"
    },
    {
     "data": {
      "image/png": "[encoded data removed]",
      "text/plain": [
       "<Figure size 640x480 with 1 Axes>"
      ]
     },
     "metadata": {},
     "output_type": "display_data"
    },
    {
     "name": "stdout",
     "output_type": "stream",
     "text": [
      "DeltaF_LBAR = -41.54449585093802 +/- 0.000950297\n",
      "DeltaF_LFEP_base = -41.537259696042675 +/- 0.00265469\n",
      "DeltaF_ref = -41.63118624409562 +/- 0.00698624\n"
     ]
    },
    {
     "ename": "SystemError",
     "evalue": "LBARstats found, sure you want to recalculate them?",
     "output_type": "error",
     "traceback": [
      "\u001b[0;31m---------------------------------------------------------------------------\u001b[0m",
      "\u001b[0;31mSystemError\u001b[0m                               Traceback (most recent call last)",
      "Cell \u001b[0;32mIn[8], line 14\u001b[0m\n\u001b[1;32m     12\u001b[0m \u001b[39mprint\u001b[39m(\u001b[39mf\u001b[39m\u001b[39m\"\u001b[39m\u001b[39mDeltaF_LFEP_base = \u001b[39m\u001b[39m{\u001b[39;00mstats[\u001b[39m'\u001b[39m\u001b[39mLFEPdeltaFs\u001b[39m\u001b[39m'\u001b[39m][:,\u001b[39m0\u001b[39m]\u001b[39m.\u001b[39mmean()\u001b[39m/\u001b[39msc\u001b[39m}\u001b[39;00m\u001b[39m +/- \u001b[39m\u001b[39m{\u001b[39;00mn_sigmas\u001b[39m*\u001b[39mstats[\u001b[39m'\u001b[39m\u001b[39mLFEPdeltaFs\u001b[39m\u001b[39m'\u001b[39m][:,\u001b[39m0\u001b[39m]\u001b[39m.\u001b[39mstd()\u001b[39m/\u001b[39msc\u001b[39m:\u001b[39;00m\u001b[39mg\u001b[39m\u001b[39m}\u001b[39;00m\u001b[39m\"\u001b[39m)\n\u001b[1;32m     13\u001b[0m \u001b[39mprint\u001b[39m(\u001b[39mf\u001b[39m\u001b[39m\"\u001b[39m\u001b[39mDeltaF_ref = \u001b[39m\u001b[39m{\u001b[39;00mreference_deltaF\u001b[39m/\u001b[39msc\u001b[39m}\u001b[39;00m\u001b[39m +/- \u001b[39m\u001b[39m{\u001b[39;00mn_sigmas\u001b[39m*\u001b[39mreference_deltaF_std\u001b[39m/\u001b[39msc\u001b[39m:\u001b[39;00m\u001b[39mg\u001b[39m\u001b[39m}\u001b[39;00m\u001b[39m\"\u001b[39m)\n\u001b[0;32m---> 14\u001b[0m \u001b[39mraise\u001b[39;00m \u001b[39mSystemError\u001b[39;00m(\u001b[39m'\u001b[39m\u001b[39mLBARstats found, sure you want to recalculate them?\u001b[39m\u001b[39m'\u001b[39m)\n",
      "\u001b[0;31mSystemError\u001b[0m: LBARstats found, sure you want to recalculate them?"
     ]
    }
   ],
   "source": [
    "filename = f'{logdir_path}/training_stage_{stage}/epoch_{epoch}/LBARstats'\n",
    "stats_found = False\n",
    "try: \n",
    "    stats = np.load(filename+'.npz')\n",
    "    stats_found = True\n",
    "except FileNotFoundError:\n",
    "    print('no LBARstats found')\n",
    "\n",
    "if stats_found:\n",
    "    plot_results(**stats)\n",
    "    print(f\"DeltaF_LBAR = {stats['deltaFs'].mean()/sc} +/- {n_sigmas*stats['deltaFs'].std()/sc:g}\")\n",
    "    print(f\"DeltaF_LFEP_base = {stats['LFEPdeltaFs'][:,0].mean()/sc} +/- {n_sigmas*stats['LFEPdeltaFs'][:,0].std()/sc:g}\")\n",
    "    print(f\"DeltaF_ref = {reference_deltaF/sc} +/- {n_sigmas*reference_deltaF_std/sc:g}\")\n",
    "    raise SystemError('LBARstats found, sure you want to recalculate them?')"
   ]
  },
  {
   "cell_type": "code",
   "execution_count": 9,
   "metadata": {},
   "outputs": [],
   "source": [
    "num_samples = len(base.data.pos)\n",
    "batch_size = 128\n",
    "\n",
    "keys = jax.random.split(next(chain), num_samples)\n",
    "base_tr = scanned_vmap(base.sample_idx, batch_size)(keys, jnp.arange(num_samples))"
   ]
  },
  {
   "cell_type": "code",
   "execution_count": 16,
   "metadata": {},
   "outputs": [
    {
     "data": {
      "image/png": "[encoded data removed]",
      "text/plain": [
       "<Figure size 640x480 with 1 Axes>"
      ]
     },
     "metadata": {},
     "output_type": "display_data"
    },
    {
     "data": {
      "text/plain": [
       "Array(0.0112915, dtype=float32)"
      ]
     },
     "execution_count": 16,
     "metadata": {},
     "output_type": "execute_result"
    }
   ],
   "source": [
    "plt.hist(base.data.energy / base.omm_model.kbT, bins=100, alpha=0.5)\n",
    "plt.hist(base_tr.ldj, bins=100, alpha=0.5)\n",
    "plt.show()\n"
   ]
  },
  {
   "cell_type": "code",
   "execution_count": 17,
   "metadata": {},
   "outputs": [
    {
     "data": {
      "text/plain": [
       "Array(0.0112915, dtype=float32)"
      ]
     },
     "execution_count": 17,
     "metadata": {},
     "output_type": "execute_result"
    }
   ],
   "source": [
    "(base.data.energy / base.omm_model.kbT - base_tr.ldj).max()"
   ]
  },
  {
   "cell_type": "code",
   "execution_count": null,
   "metadata": {},
   "outputs": [],
   "source": [
    "num_samples = 10_000\n",
    "batch_size = 128\n",
    "\n",
    "print('sampling base')\n",
    "keys = jax.random.split(next(chain), num_samples)\n",
    "base_tr = scanned_vmap(base.sample, batch_size)(keys)\n",
    "\n",
    "print('mapping')\n",
    "mapped_tr = scanned_vmap(flow.forward, batch_size)(base_tr.obj)\n",
    "\n",
    "print('getting logw')\n",
    "## NB: base_tr.ldj = jax.vmap(base.potential)(base_tr.obj)\n",
    "logw = base_tr.ldj + mapped_tr.ldj - scanned_vmap(target.potential, batch_size)(mapped_tr.obj)\n",
    "\n",
    "plt.hist(jnp.exp(logw-logw.max()), bins=100)\n",
    "plt.yscale('log')\n",
    "plt.show()\n",
    "\n",
    "print(f'ESS = {ess(logw):g}  ->  {ess(logw)/len(logw):.2%}')\n"
   ]
  },
  {
   "cell_type": "code",
   "execution_count": null,
   "metadata": {},
   "outputs": [],
   "source": [
    "print('sampling target')\n",
    "keys = jax.random.split(next(chain), num_samples)\n",
    "target_tr = scanned_vmap(target.sample, batch_size)(keys)\n",
    "\n",
    "print('mapping')\n",
    "back_mapped_tr = scanned_vmap(flow.inverse, batch_size)(target_tr.obj)\n",
    "\n",
    "print('getting logw')\n",
    "## NB: base_tr.ldj = jax.vmap(base.potential)(base_tr.obj)\n",
    "back_logw = target_tr.ldj + back_mapped_tr.ldj - scanned_vmap(base.potential, batch_size)(back_mapped_tr.obj)\n",
    "\n",
    "plt.hist(jnp.exp(back_logw - back_logw.max()), bins=100)\n",
    "plt.yscale('log')\n",
    "plt.show()\n",
    "\n",
    "print(f'ESS = {ess(back_logw):g}  ->  {ess(back_logw)/len(back_logw):.2%}')"
   ]
  },
  {
   "cell_type": "code",
   "execution_count": null,
   "metadata": {},
   "outputs": [],
   "source": [
    "plot_2Dview(base_tr, title='base')\n",
    "plot_2Dview(back_mapped_tr, title='back_mapped')\n",
    "\n",
    "plot_2Dview(target_tr, title='target')\n",
    "plot_2Dview(mapped_tr, title='mapped')"
   ]
  },
  {
   "cell_type": "code",
   "execution_count": null,
   "metadata": {},
   "outputs": [],
   "source": [
    "ene_label = 'omm'\n",
    "scaling = 1\n",
    "if ene_label == 'omm':\n",
    "    scaling = target.omm_model.kbT\n",
    "base_ene2 = target.compute_energies(base_tr.obj, True, False, True)[ene_label] * scaling\n",
    "target_ene2 = target.compute_energies(target_tr.obj, True, False, True)[ene_label] * scaling\n",
    "mapped_ene2 = target.compute_energies(mapped_tr.obj, True, False, True)[ene_label] * scaling\n",
    "back_mapped_ene2 = target.compute_energies(back_mapped_tr.obj, True, False, True)[ene_label] * scaling"
   ]
  },
  {
   "cell_type": "code",
   "execution_count": null,
   "metadata": {},
   "outputs": [],
   "source": [
    "plt.hist(base_ene2, **hist_kwargs, label='base')\n",
    "plt.hist(mapped_ene2, **hist_kwargs, label='mapped', histtype='step')\n",
    "plt.hist(target_ene2, **hist_kwargs, label='target')\n",
    "plt.hist(back_mapped_ene2, **hist_kwargs, label='back_mapped', histtype='step')\n",
    "# plt.hist(mapped_ene2, weights=jnp.exp(logw-jax.scipy.special.logsumexp(logw)), bins=75, histtype='step', density=True, label='reweighted')\n",
    "plt.xlabel(ene_label + ' energy [kJ/mol]') #it's kJ/mol only for omm energies\n",
    "plt.legend()\n",
    "plt.show()"
   ]
  },
  {
   "cell_type": "code",
   "execution_count": null,
   "metadata": {},
   "outputs": [],
   "source": [
    "## LFEP\n",
    "\n",
    "deltaF = (jnp.log(len(logw)) - jax.scipy.special.logsumexp(logw)).item()\n",
    "print(f'Estimated deltaF from base   (above) = {deltaF:g}')\n",
    "\n",
    "back_deltaF = -(jnp.log(len(back_logw)) - jax.scipy.special.logsumexp(back_logw)).item()\n",
    "print(f'Estimated deltaF from target (below) = {back_deltaF:g}')\n",
    "\n",
    "if reference_deltaF is not None:\n",
    "    print(f'               Reference MBAR deltaF = {reference_deltaF:g}')"
   ]
  },
  {
   "cell_type": "markdown",
   "metadata": {},
   "source": [
    "## compute LBAR"
   ]
  },
  {
   "cell_type": "code",
   "execution_count": null,
   "metadata": {},
   "outputs": [],
   "source": [
    "N_k = np.array([mapped_tr.obj.pos.shape[0], back_mapped_tr.obj.pos.shape[0]])\n",
    "\n",
    "u_kn = np.empty((2, N_k.sum()))\n",
    "u_kn[0] = np.concatenate([target_tr.ldj, base_tr.ldj - logw])\n",
    "u_kn[1] = np.concatenate([target_tr.ldj - back_logw, base_tr.ldj])\n",
    "\n",
    "N_k.shape, u_kn.shape"
   ]
  },
  {
   "cell_type": "code",
   "execution_count": null,
   "metadata": {},
   "outputs": [],
   "source": [
    "import pymbar\n",
    "\n",
    "mbar = pymbar.MBAR(u_kn, N_k, n_bootstraps=200, solver_protocol='robust')\n",
    "# mbar = pymbar.MBAR(u_kn, N_k, n_bootstraps=200)"
   ]
  },
  {
   "cell_type": "code",
   "execution_count": null,
   "metadata": {},
   "outputs": [],
   "source": [
    "results = mbar.compute_free_energy_differences(uncertainty_method=\"bootstrap\")\n",
    "\n",
    "print(f\"DeltaF = {results['Delta_f'][-1,0]} +/- {results['dDelta_f'][-1,0]:g}\")"
   ]
  },
  {
   "attachments": {},
   "cell_type": "markdown",
   "metadata": {},
   "source": [
    "## estimate with uncertainty"
   ]
  },
  {
   "cell_type": "code",
   "execution_count": null,
   "metadata": {},
   "outputs": [],
   "source": [
    "# num_samples = 10_000\n",
    "# batch_size = 64\n",
    "num_iterations = 10\n",
    "\n",
    "N_k = np.array(2*[num_samples])\n",
    "u_kn = np.zeros((2, 2*num_samples))\n",
    "\n",
    "LFEPdeltaFs = np.zeros((num_iterations, 2))\n",
    "deltaFs = np.zeros(num_iterations)\n",
    "std_deltaFs = np.zeros(num_iterations)\n",
    "ESSs = np.zeros((num_iterations, 2))\n",
    "for i in range(num_iterations):\n",
    "    print('\\niter:', i)\n",
    "    print('sampling base...', end='\\r')\n",
    "    keys = jax.random.split(next(chain), num_samples)\n",
    "    base_tr = jax.vmap(base.sample)(keys)\n",
    "    mapped_tr = scanned_vmap(flow.forward, batch_size)(base_tr.obj)\n",
    "    logw = base_tr.ldj + mapped_tr.ldj - jax.vmap(target.potential)(mapped_tr.obj)\n",
    "    ESSs[i, 0] = ess(logw)\n",
    "    LFEPdeltaFs[i,0] = (jnp.log(len(logw)) - jax.scipy.special.logsumexp(logw)).item()\n",
    "    print(f'DeltaF = {LFEPdeltaFs[i,0]}, efficiency = {ESSs[i, 0]/len(logw):.2%}')\n",
    "    \n",
    "    print('sampling target...', end='\\r')\n",
    "    keys = jax.random.split(next(chain), num_samples)\n",
    "    target_tr = jax.vmap(target.sample)(keys)\n",
    "    back_mapped_tr = scanned_vmap(flow.inverse, batch_size)(target_tr.obj)\n",
    "    back_logw = target_tr.ldj + back_mapped_tr.ldj - jax.vmap(base.potential)(back_mapped_tr.obj)\n",
    "    ESSs[i, 1] = ess(back_logw)\n",
    "    LFEPdeltaFs[i,1] = -(jnp.log(len(back_logw)) - jax.scipy.special.logsumexp(back_logw)).item()\n",
    "    print(f'DeltaF = {LFEPdeltaFs[i,1]}, efficiency = {ESSs[i, 1]/len(back_logw):.2%}')\n",
    "\n",
    "    print('calc mbar...', end='\\r')\n",
    "    u_kn[0] = np.concatenate([target_tr.ldj, base_tr.ldj - logw])\n",
    "    u_kn[1] = np.concatenate([target_tr.ldj - back_logw, base_tr.ldj])\n",
    "    mbar = pymbar.MBAR(u_kn, N_k, n_bootstraps=100, solver_protocol='robust')\n",
    "    results = mbar.compute_free_energy_differences(uncertainty_method=\"bootstrap\")\n",
    "    deltaFs[i] = results['Delta_f'][-1,0]\n",
    "    std_deltaFs[i] = results['dDelta_f'][-1,0]\n",
    "    print(f\"DeltaF = {results['Delta_f'][-1,0]} +/- {results['dDelta_f'][-1,0]:g}\")"
   ]
  },
  {
   "cell_type": "code",
   "execution_count": null,
   "metadata": {},
   "outputs": [],
   "source": [
    "plot_results(deltaFs, reference_deltaF, LFEPdeltaFs, ESSs, num_samples)"
   ]
  },
  {
   "cell_type": "code",
   "execution_count": null,
   "metadata": {},
   "outputs": [],
   "source": [
    "# filename = f'{logdir_path}/training_stage_{stage}/epoch_{epoch}/LBARstats'\n",
    "np.savez(filename, ESSs=ESSs, LFEPdeltaFs=LFEPdeltaFs, deltaFs=deltaFs, std_deltaFs=std_deltaFs)"
   ]
  },
  {
   "cell_type": "code",
   "execution_count": null,
   "metadata": {},
   "outputs": [],
   "source": []
  }
 ],
 "metadata": {
  "kernelspec": {
   "display_name": "Python 3.10.8 ('flox')",
   "language": "python",
   "name": "python3"
  },
  "language_info": {
   "codemirror_mode": {
    "name": "ipython",
    "version": 3
   },
   "file_extension": ".py",
   "mimetype": "text/x-python",
   "name": "python",
   "nbconvert_exporter": "python",
   "pygments_lexer": "ipython3",
   "version": "3.10.8"
  },
  "orig_nbformat": 4,
  "vscode": {
   "interpreter": {
    "hash": "52d865f241f5cf4532d2b38dc6618aea3fdd872b067fcdc4aedd37cb5878aec8"
   }
  }
 },
 "nbformat": 4,
 "nbformat_minor": 2
}
