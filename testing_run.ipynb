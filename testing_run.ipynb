{
 "cells": [
  {
   "cell_type": "markdown",
   "metadata": {},
   "source": [
    "# Map between two states and get free energy"
   ]
  },
  {
   "cell_type": "code",
   "execution_count": 1,
   "metadata": {},
   "outputs": [],
   "source": [
    "%load_ext autoreload\n",
    "%autoreload 2"
   ]
  },
  {
   "cell_type": "code",
   "execution_count": 2,
   "metadata": {},
   "outputs": [
    {
     "name": "stdout",
     "output_type": "stream",
     "text": [
      "env: XLA_PYTHON_CLIENT_MEM_FRACTION=.6\n"
     ]
    }
   ],
   "source": [
    "%env XLA_PYTHON_CLIENT_MEM_FRACTION=.6\n",
    "# %env XLA_PYTHON_CLIENT_ALLOCATOR=platform"
   ]
  },
  {
   "cell_type": "code",
   "execution_count": 3,
   "metadata": {},
   "outputs": [
    {
     "data": {
      "application/vnd.jupyter.widget-view+json": {
       "model_id": "5755640c10af4cc4a503f37312318ce8",
       "version_major": 2,
       "version_minor": 0
      },
      "text/plain": []
     },
     "metadata": {},
     "output_type": "display_data"
    },
    {
     "name": "stderr",
     "output_type": "stream",
     "text": [
      "2023-03-03 17:59:41.556508: W tensorflow/compiler/xla/stream_executor/platform/default/dso_loader.cc:64] Could not load dynamic library 'libnvinfer.so.7'; dlerror: libnvinfer.so.7: cannot open shared object file: No such file or directory; LD_LIBRARY_PATH: :/home/mi/minvernizzi/.local/lib\n",
      "2023-03-03 17:59:41.556676: W tensorflow/compiler/xla/stream_executor/platform/default/dso_loader.cc:64] Could not load dynamic library 'libnvinfer_plugin.so.7'; dlerror: libnvinfer_plugin.so.7: cannot open shared object file: No such file or directory; LD_LIBRARY_PATH: :/home/mi/minvernizzi/.local/lib\n",
      "2023-03-03 17:59:41.556689: W tensorflow/compiler/tf2tensorrt/utils/py_utils.cc:38] TF-TRT Warning: Cannot dlopen some TensorRT libraries. If you would like to use Nvidia GPU with TensorRT, please make sure the missing libraries mentioned above are installed properly.\n"
     ]
    }
   ],
   "source": [
    "import jax\n",
    "import equinox as eqx\n",
    "import logging\n",
    "import git\n",
    "import numpy as np\n",
    "import matplotlib.pyplot as plt\n",
    "from jax import numpy as jnp\n",
    "from dataclasses import asdict\n",
    "from typing import cast\n",
    "\n",
    "from rigid_flows.data import DataWithAuxiliary\n",
    "from rigid_flows.density import KeyArray, OpenMMDensity\n",
    "from rigid_flows.flow import RigidWithAuxiliary, build_flow\n",
    "from rigid_flows.reporting import Reporter\n",
    "from rigid_flows.specs import ExperimentSpecification\n",
    "from rigid_flows.train import run_training_stage\n",
    "from rigid_flows.utils import scanned_vmap\n",
    "\n",
    "from flox._src.flow.api import Transform\n",
    "from flox.flow import Pipe\n",
    "from flox.util import key_chain\n"
   ]
  },
  {
   "cell_type": "code",
   "execution_count": 4,
   "metadata": {},
   "outputs": [],
   "source": [
    "logging.getLogger().setLevel(logging.INFO)\n",
    "\n",
    "def setup_model(key: KeyArray, specs: ExperimentSpecification):\n",
    "    chain = key_chain(key)\n",
    "\n",
    "    logging.info(\"Loading base density.\")\n",
    "    num_datapoints = specs.model.base.num_samples\n",
    "    if num_datapoints is not None:\n",
    "        logging.info(f'  taking only {num_datapoints} samples from MD')\n",
    "        selection = np.s_[:num_datapoints]\n",
    "    else:\n",
    "        selection = np.s_[:]\n",
    "    base = OpenMMDensity.from_specs(\n",
    "        specs.model.use_auxiliary, specs.model.base, selection\n",
    "    )\n",
    "\n",
    "    logging.info(f\"Loading target density.\")\n",
    "    num_datapoints = specs.model.target.num_samples\n",
    "    if num_datapoints is not None:\n",
    "        logging.info(f'  taking only {num_datapoints} samples from MD')\n",
    "        selection = np.s_[:num_datapoints]\n",
    "    else:\n",
    "        selection = np.s_[:]\n",
    "    target = OpenMMDensity.from_specs(\n",
    "        specs.model.use_auxiliary, specs.model.target, selection\n",
    "    )\n",
    "\n",
    "    logging.info(f\"Setting up flow model.\")\n",
    "    flow = build_flow(\n",
    "        next(chain),\n",
    "        specs.model.base.num_molecules,\n",
    "        specs.model.use_auxiliary,\n",
    "        specs.model.flow,\n",
    "    )\n",
    "\n",
    "    if specs.model.pretrained_model_path is not None:\n",
    "        logging.info(\n",
    "            f\"Loading pre-trained model from {specs.model.pretrained_model_path}.\"\n",
    "        )\n",
    "        flow = cast(\n",
    "            Pipe[DataWithAuxiliary, RigidWithAuxiliary],\n",
    "            eqx.tree_deserialise_leaves(\n",
    "                specs.model.pretrained_model_path, flow\n",
    "            ),\n",
    "        )\n",
    "\n",
    "    return base, target, flow\n",
    "\n",
    "\n",
    "def train(\n",
    "    key: KeyArray,\n",
    "    run_dir: str,\n",
    "    specs: ExperimentSpecification,\n",
    "    base: OpenMMDensity,\n",
    "    target: OpenMMDensity,\n",
    "    flow: Transform[DataWithAuxiliary, DataWithAuxiliary],\n",
    "    tot_iter: int,\n",
    "    loss_reporter: list | None = None,\n",
    ") -> Transform[DataWithAuxiliary, DataWithAuxiliary]:\n",
    "    chain = key_chain(key)\n",
    "    repo = git.Repo(search_parent_directories=True)\n",
    "    branch = repo.active_branch.name\n",
    "    sha = repo.head.object.hexsha\n",
    "\n",
    "    log = asdict(specs)\n",
    "    log[\"git\"] = {\"branch\": branch, \"sha\": sha}\n",
    "    logging.info(f\"Starting training.\")\n",
    "    reporter = Reporter(\n",
    "        base,\n",
    "        target,\n",
    "        run_dir,\n",
    "        specs.reporting,\n",
    "        scope=None,\n",
    "    )\n",
    "    reporter.with_scope(f\"initial\").report_model(next(chain), flow, tot_iter)\n",
    "    for stage, train_spec in enumerate(specs.train):\n",
    "        flow = run_training_stage(\n",
    "            next(chain),\n",
    "            base,\n",
    "            target,\n",
    "            flow,\n",
    "            train_spec,\n",
    "            specs.model.target,\n",
    "            reporter.with_scope(f\"training_stage_{stage}\"),\n",
    "            tot_iter,\n",
    "            loss_reporter,\n",
    "        )\n",
    "        tot_iter += train_spec.num_iterations\n",
    "    return flow\n",
    "\n",
    "def count_params(model):\n",
    "    return jax.tree_util.tree_reduce(\n",
    "        lambda s, n: s + n.size if eqx.is_array(n) else s, model, jnp.zeros((), dtype=jnp.int32)).item()\n",
    "\n",
    "def jitvmap(fn, batch_size=None):\n",
    "    if batch_size is None:\n",
    "        return jax.jit(jax.vmap(fn))\n",
    "    else:\n",
    "        return jax.jit(scanned_vmap(fn, batch_size))\n",
    "\n",
    "hist_kwargs = {\"bins\": \"auto\", \"density\": True, \"alpha\": 0.5}"
   ]
  },
  {
   "cell_type": "code",
   "execution_count": 5,
   "metadata": {},
   "outputs": [
    {
     "name": "stderr",
     "output_type": "stream",
     "text": [
      "INFO:root:Loading base density.\n",
      "INFO:root:  taking only 10000 samples from MD\n",
      "INFO:root:Loading OpenMM model specs from /group/ag_cmb/scratch/minvernizzi/so3-flow/ice_MDdata/model-iceXI_T250_N128.json\n",
      "INFO:root:Loading data from /group/ag_cmb/scratch/minvernizzi/so3-flow/ice_MDdata/MDtraj-iceXI_T250_N128.npz\n",
      "INFO:root:Loading target density.\n",
      "INFO:root:  taking only 10000 samples from MD\n",
      "INFO:root:Loading OpenMM model specs from /group/ag_cmb/scratch/minvernizzi/so3-flow/ice_MDdata/model-iceXI_T100_N128.json\n",
      "INFO:root:Loading data from /group/ag_cmb/scratch/minvernizzi/so3-flow/ice_MDdata/MDtraj-iceXI_T100_N128.npz\n",
      "INFO:root:Setting up flow model.\n"
     ]
    },
    {
     "name": "stdout",
     "output_type": "stream",
     "text": [
      "tot flow parameters: 8_259_664\n"
     ]
    }
   ],
   "source": [
    "logdir = \"testing\"\n",
    "specs_file = \"testing.yaml\"\n",
    "specs = ExperimentSpecification.load_from_file(specs_file)\n",
    "\n",
    "chain = key_chain(specs.seed)\n",
    "base, target, flow = setup_model(next(chain), specs)\n",
    "model = base.omm_model.model\n",
    "\n",
    "tot_iter = specs.global_step if specs.global_step is not None else 0\n",
    "\n",
    "print(f'tot flow parameters: {count_params(flow):_}')"
   ]
  },
  {
   "cell_type": "code",
   "execution_count": 6,
   "metadata": {},
   "outputs": [
    {
     "data": {
      "text/plain": [
       "(-5314.32432, 0.10492)"
      ]
     },
     "execution_count": 6,
     "metadata": {},
     "output_type": "execute_result"
    }
   ],
   "source": [
    "try:\n",
    "    ref_file = f\"data/water/DeltaF_estimates/DF-{specs.model.base}-{specs.model.target}.txt\"\n",
    "    reference_deltaF, reference_deltaF_std = np.loadtxt(ref_file, unpack=True)\n",
    "except FileNotFoundError:\n",
    "    reference_deltaF, reference_deltaF_std = None, None\n",
    "\n",
    "reference_deltaF, reference_deltaF_std"
   ]
  },
  {
   "cell_type": "code",
   "execution_count": 7,
   "metadata": {},
   "outputs": [],
   "source": [
    "num_samples = 1_000\n",
    "\n",
    "keys = jax.random.split(next(chain), num_samples)\n",
    "base_tr = jitvmap(base.sample)(keys)\n",
    "\n",
    "mapped_tr = jitvmap(flow.forward)(base_tr.obj)\n",
    "\n",
    "keys = jax.random.split(next(chain), num_samples)\n",
    "target_tr = jitvmap(target.sample)(keys)\n",
    "\n",
    "logw = base_tr.ldj + mapped_tr.ldj - jitvmap(target.potential)(mapped_tr.obj)\n",
    "(jnp.log(len(logw)) - jax.scipy.special.logsumexp(logw)).item()"
   ]
  },
  {
   "cell_type": "code",
   "execution_count": null,
   "metadata": {},
   "outputs": [],
   "source": [
    "toPBC = True\n",
    "model.plot_2Dview(base_tr.obj.pos.reshape(-1, model.n_atoms, 3), toPBC=toPBC, title='base')\n",
    "model.plot_2Dview(mapped_tr.obj.pos.reshape(-1, model.n_atoms, 3), toPBC=toPBC, title='mapped')\n",
    "model.plot_2Dview(target_tr.obj.pos.reshape(-1, model.n_atoms, 3), toPBC=toPBC, title='target')"
   ]
  },
  {
   "cell_type": "code",
   "execution_count": null,
   "metadata": {},
   "outputs": [],
   "source": [
    "%%time\n",
    "\n",
    "!cp {specs_file} {logdir}/config.yaml\n",
    "\n",
    "loss_reporter = []\n",
    "flow = train(next(chain), logdir, specs, base, target, flow, tot_iter, loss_reporter)"
   ]
  },
  {
   "cell_type": "code",
   "execution_count": null,
   "metadata": {},
   "outputs": [],
   "source": [
    "plt.plot(loss_reporter, label='KL loss')\n",
    "if reference_deltaF is not None:\n",
    "    plt.axhline(reference_deltaF, c=\"k\", ls=\":\", label='MD reference')\n",
    "plt.xlim(0, len(loss_reporter))\n",
    "plt.xlabel('iterations')\n",
    "plt.ylabel('$\\Delta F$')\n",
    "plt.legend()\n",
    "plt.show()"
   ]
  },
  {
   "cell_type": "code",
   "execution_count": null,
   "metadata": {},
   "outputs": [],
   "source": [
    "mapped_tr = jitvmap(flow.forward)(base_tr.obj)"
   ]
  },
  {
   "cell_type": "code",
   "execution_count": null,
   "metadata": {},
   "outputs": [],
   "source": [
    "model.plot_2Dview(base_tr.obj.pos.reshape(-1, model.n_atoms, 3),   toPBC=toPBC, title='base')\n",
    "model.plot_2Dview(mapped_tr.obj.pos.reshape(-1, model.n_atoms, 3), toPBC=toPBC, title='mapped')\n",
    "model.plot_2Dview(target_tr.obj.pos.reshape(-1, model.n_atoms, 3), toPBC=toPBC, title='target')"
   ]
  },
  {
   "cell_type": "code",
   "execution_count": null,
   "metadata": {},
   "outputs": [],
   "source": [
    "def ess(logw):\n",
    "    return jnp.exp(2*jax.scipy.special.logsumexp(logw)-jax.scipy.special.logsumexp(2*logw))\n",
    "\n",
    "## NB: base_tr.ldj = jax.vmap(base.potential)(base_tr.obj)\n",
    "logw = base_tr.ldj + mapped_tr.ldj - jax.vmap(target.potential)(mapped_tr.obj)\n",
    "\n",
    "plt.hist(jnp.exp(logw-logw.max()), bins=100)\n",
    "plt.yscale('log')\n",
    "plt.show()\n",
    "\n",
    "print(f'ESS = {ess(logw):g}  ->  {ess(logw)/len(logw):.2%}')"
   ]
  },
  {
   "cell_type": "code",
   "execution_count": null,
   "metadata": {},
   "outputs": [],
   "source": [
    "ene_fn = jitvmap(target.potential)\n",
    "base_ene = ene_fn(base_tr.obj)\n",
    "mapped_ene = ene_fn(mapped_tr.obj)\n",
    "target_ene = ene_fn(target_tr.obj)"
   ]
  },
  {
   "cell_type": "code",
   "execution_count": null,
   "metadata": {},
   "outputs": [],
   "source": [
    "plt.hist(base_ene, **hist_kwargs, label='base')\n",
    "plt.hist(mapped_ene, **hist_kwargs, label='mapped')\n",
    "plt.hist(target_ene, **hist_kwargs, label='target')\n",
    "plt.hist(mapped_ene, weights=np.exp(logw-jax.scipy.special.logsumexp(logw)), bins=75, histtype='step', density=True, label='reweighted')\n",
    "plt.xlabel('total energy')\n",
    "plt.legend()\n",
    "plt.show()"
   ]
  },
  {
   "cell_type": "code",
   "execution_count": null,
   "metadata": {},
   "outputs": [],
   "source": [
    "ene_label = 'omm'\n",
    "scaling = 1\n",
    "if ene_label == 'omm':\n",
    "    scaling = target.omm_model.kbT\n",
    "base_ene2 = target.compute_energies(base_tr.obj, True, True, True)[ene_label] * scaling\n",
    "target_ene2 = target.compute_energies(target_tr.obj, True, True, True)[ene_label] * scaling\n",
    "mapped_ene2 = target.compute_energies(mapped_tr.obj, True, True, True)[ene_label] * scaling"
   ]
  },
  {
   "cell_type": "code",
   "execution_count": null,
   "metadata": {},
   "outputs": [],
   "source": [
    "plt.hist(base_ene2, **hist_kwargs, label='base')\n",
    "plt.hist(mapped_ene2, **hist_kwargs, label='mapped')\n",
    "plt.hist(target_ene2, **hist_kwargs, label='target')\n",
    "plt.hist(mapped_ene2, weights=np.exp(logw-jax.scipy.special.logsumexp(logw)), bins=50, histtype='step', density=True, label='reweighted')\n",
    "plt.xlabel(ene_label + ' energy [kJ/mol]') #it's kJ/mol only for omm energies\n",
    "plt.legend()\n",
    "plt.show()"
   ]
  },
  {
   "cell_type": "code",
   "execution_count": null,
   "metadata": {},
   "outputs": [],
   "source": [
    "r_range = [0.2, np.diag(model.box).min()]\n",
    "n_bins = 300\n",
    "plt.title('Oxygen-Oxygen')\n",
    "model.plot_rdf(base_tr.obj.pos.reshape(-1, model.n_atoms, 3), r_range=r_range, n_bins=n_bins, label='base')\n",
    "model.plot_rdf(mapped_tr.obj.pos.reshape(-1, model.n_atoms, 3), r_range=r_range, n_bins=n_bins, label='mapped')\n",
    "model.plot_rdf(target_tr.obj.pos.reshape(-1, model.n_atoms, 3), r_range=r_range, n_bins=n_bins, label='target')\n",
    "plt.axvline(model.box.max()/2, c='k', ls=':', alpha=.5)\n",
    "plt.legend()\n",
    "plt.show()"
   ]
  },
  {
   "cell_type": "code",
   "execution_count": null,
   "metadata": {},
   "outputs": [],
   "source": [
    "## TFEP\n",
    "deltaF = (jnp.log(len(logw)) - jax.scipy.special.logsumexp(logw)).item()\n",
    "print(f'Estimated deltaF from TFEP (below) = {deltaF:g}')\n",
    "if reference_deltaF is not None:\n",
    "    print(f'                  Reference deltaF = {reference_deltaF:g}')"
   ]
  },
  {
   "cell_type": "code",
   "execution_count": null,
   "metadata": {},
   "outputs": [],
   "source": [
    "def estimate_deltaF(key, num_samples, base):\n",
    "    keys = jax.random.split(key, num_samples)\n",
    "    base_tr = jitvmap(base.sample)(keys)\n",
    "    mapped_tr = jitvmap(flow.forward)(base_tr.obj)\n",
    "    logw = base_tr.ldj + mapped_tr.ldj - jitvmap(target.potential)(mapped_tr.obj)\n",
    "    return (jnp.log(len(logw)) - jax.scipy.special.logsumexp(logw)).item()\n",
    "\n",
    "eval_base = OpenMMDensity.from_specs(specs.model.use_auxiliary, specs.model.base, np.s_[-specs.model.base.num_samples:])\n",
    "eval_base.data.pos.shape[0]"
   ]
  },
  {
   "cell_type": "code",
   "execution_count": null,
   "metadata": {},
   "outputs": [],
   "source": [
    "estimate_from_training = False #this gives a biased estimate, always lower\n",
    "\n",
    "from tqdm import trange\n",
    "\n",
    "#FIXME: it's maybe better to use all MD points instead of random samples\n",
    "iterations = 5\n",
    "n_samples = 1000 \n",
    "\n",
    "if estimate_from_training:\n",
    "    deltaFs = np.zeros(iterations)\n",
    "    for i in trange(iterations):\n",
    "        deltaFs[i] = estimate_deltaF(next(chain), n_samples, base)\n",
    "    print(f'deltaF = {deltaFs.mean():g} +/- {deltaFs.std():g}')\n",
    "\n",
    "eval_deltaFs = np.zeros(iterations)\n",
    "for i in trange(iterations):\n",
    "    eval_deltaFs[i] = estimate_deltaF(next(chain), n_samples, eval_base)\n",
    "    print(eval_deltaFs[i], end='\\r')\n",
    "eval_deltaFs.mean(), eval_deltaFs.std()\n",
    "print(f'deltaF = {eval_deltaFs.mean():g} +/- {eval_deltaFs.std():g}')"
   ]
  },
  {
   "cell_type": "code",
   "execution_count": null,
   "metadata": {},
   "outputs": [],
   "source": [
    "xlim = [0, len(eval_deltaFs)]\n",
    "if estimate_from_training:\n",
    "    plt.plot(deltaFs, '.', c='blue', label='training')\n",
    "    x = 2 * [deltaFs.mean()]\n",
    "    plt.fill_between(xlim, x-deltaFs.std(), x+deltaFs.std(), color='blue', alpha=0.3)\n",
    "    plt.axhline(deltaFs.mean(), c='blue')\n",
    "plt.plot(eval_deltaFs, '.', c='orange', label='testing')\n",
    "x = 2 * [eval_deltaFs.mean()]\n",
    "plt.fill_between(xlim, x-eval_deltaFs.std(), x+eval_deltaFs.std(), color='orange', alpha=0.3)\n",
    "plt.axhline(eval_deltaFs.mean(), c='orange')\n",
    "if reference_deltaF is not None:\n",
    "    plt.axhline(reference_deltaF, c='k', ls=\":\", label='reference')\n",
    "    x = np.array(2 * [reference_deltaF])\n",
    "    plt.fill_between(xlim, x-reference_deltaF_std, x+reference_deltaF_std, color='k', alpha=0.1)\n",
    "plt.xlim(xlim)\n",
    "plt.legend()\n",
    "plt.show()"
   ]
  },
  {
   "cell_type": "code",
   "execution_count": null,
   "metadata": {},
   "outputs": [],
   "source": []
  }
 ],
 "metadata": {
  "kernelspec": {
   "display_name": "Python 3 (ipykernel)",
   "language": "python",
   "name": "python3"
  },
  "language_info": {
   "codemirror_mode": {
    "name": "ipython",
    "version": 3
   },
   "file_extension": ".py",
   "mimetype": "text/x-python",
   "name": "python",
   "nbconvert_exporter": "python",
   "pygments_lexer": "ipython3",
   "version": "3.10.8"
  },
  "vscode": {
   "interpreter": {
    "hash": "52d865f241f5cf4532d2b38dc6618aea3fdd872b067fcdc4aedd37cb5878aec8"
   }
  }
 },
 "nbformat": 4,
 "nbformat_minor": 4
}
